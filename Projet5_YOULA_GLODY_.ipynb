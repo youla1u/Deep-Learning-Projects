{
  "nbformat": 4,
  "nbformat_minor": 0,
  "metadata": {
    "colab": {
      "name": "Projet_YOULA_GLODY .ipynb",
      "provenance": [],
      "collapsed_sections": []
    },
    "kernelspec": {
      "name": "python3",
      "display_name": "Python 3"
    }
  },
  "cells": [
    {
      "cell_type": "markdown",
      "metadata": {
        "id": "J8qtjtJZwOOF"
      },
      "source": [
        "                                                **PROJET DEEP-LEARNNG**\r\n",
        "                                                  \r\n",
        "                                                        PROJET 5\r\n",
        "\r\n",
        "                                              **Extraction de Définition**\r\n",
        "      \r\n",
        "\r\n",
        "                         Participants :    **YOULA MOHAMED ET GLODY YABADA**"
      ]
    },
    {
      "cell_type": "markdown",
      "metadata": {
        "id": "Peo5ImH9y59C"
      },
      "source": [
        "**SOMMAIRE**\r\n",
        "\r\n",
        "\r\n",
        "\r\n",
        "1.  Extrction et Prétraitement des données\r\n",
        "\r\n",
        "2.  Classification avec des réseux de neurones \r\n",
        "\r\n",
        "3.  Optimisation des paramètre du meilleur modèle\r\n",
        "\r\n",
        "4.  Prédiction de la classe d'une instance choisit \r\n",
        "\r\n",
        "5.  Conclusion \r\n",
        "\r\n",
        "\r\n"
      ]
    },
    {
      "cell_type": "markdown",
      "metadata": {
        "id": "jUshSoaxyb-D"
      },
      "source": [
        "**IMPORTATION DES LIBRAIRIES** "
      ]
    },
    {
      "cell_type": "code",
      "metadata": {
        "colab": {
          "base_uri": "https://localhost:8080/"
        },
        "id": "LE_HQwjW4_UZ",
        "outputId": "f56e67ca-c303-434e-945e-856454b0fc42"
      },
      "source": [
        "import nltk\r\n",
        "import pandas as pd\r\n",
        "import numpy as np\r\n",
        "from nltk.stem import WordNetLemmatizer\r\n",
        "from nltk.corpus import stopwords\r\n",
        "from nltk.tokenize import word_tokenize\r\n",
        "from sklearn.model_selection import train_test_split\r\n",
        "from numpy import array\r\n",
        "from keras.preprocessing.text import one_hot\r\n",
        "from keras.preprocessing.sequence import pad_sequences\r\n",
        "from keras.models import Sequential\r\n",
        "from keras.layers.core import Activation, Dropout, Dense\r\n",
        "from keras.layers import Flatten\r\n",
        "from keras.layers import GlobalMaxPooling1D\r\n",
        "from keras.layers.embeddings import Embedding\r\n",
        "from sklearn.model_selection import train_test_split\r\n",
        "from keras.preprocessing.text import Tokenizer\r\n",
        "from sklearn.utils import shuffle\r\n",
        "import re\r\n",
        "nltk.download('stopwords')\r\n",
        "nltk.download('punkt')\r\n",
        "nltk.download('wordnet')"
      ],
      "execution_count": 1,
      "outputs": [
        {
          "output_type": "stream",
          "text": [
            "[nltk_data] Downloading package stopwords to /root/nltk_data...\n",
            "[nltk_data]   Unzipping corpora/stopwords.zip.\n",
            "[nltk_data] Downloading package punkt to /root/nltk_data...\n",
            "[nltk_data]   Unzipping tokenizers/punkt.zip.\n",
            "[nltk_data] Downloading package wordnet to /root/nltk_data...\n",
            "[nltk_data]   Unzipping corpora/wordnet.zip.\n"
          ],
          "name": "stdout"
        },
        {
          "output_type": "execute_result",
          "data": {
            "text/plain": [
              "True"
            ]
          },
          "metadata": {
            "tags": []
          },
          "execution_count": 1
        }
      ]
    },
    {
      "cell_type": "markdown",
      "metadata": {
        "id": "7j5v3QdYhBB-"
      },
      "source": [
        "**TELECHARGEMENT DES DONNEES**"
      ]
    },
    {
      "cell_type": "code",
      "metadata": {
        "id": "MM2yL59q5g3S"
      },
      "source": [
        "file1 = open('/content/wiki_bad.txt',\"r\") # Ficher des definition positives  \r\n",
        "file2 = open('/content/wiki_good.txt',\"r\",encoding=\"utf8\")# fichier des definitions négatives  "
      ],
      "execution_count": 2,
      "outputs": []
    },
    {
      "cell_type": "markdown",
      "metadata": {
        "id": "Yb2T_lkbivsA"
      },
      "source": [
        "Dans chacun des fichers téléchargés les définitions étant décrites par deux lignes nous nous interesserons qu'aux premières lignes de ces descriptions. Nous allons donc les extraires et remplacer le caractère 'TARGET' quelles contiennent par le (les) mot(s) situé(s) avant le premier ':' de la secondes descriptions, car 'TARGET' représente ce(s) mot(s) .      \r\n",
        "\r\n",
        "Le code ci-dessous nous permet donc de faire cette oprération.  \r\n"
      ]
    },
    {
      "cell_type": "code",
      "metadata": {
        "id": "q4UFepOv5Xnx"
      },
      "source": [
        "# Extraction pour le fichier Wiki_good.txt\r\n",
        "wiki_good=[]\r\n",
        "line = file2 .readline()\r\n",
        "while line:\r\n",
        "      wiki_good.append(line)\r\n",
        "      line = file2.readline() \r\n",
        "file2.close()\r\n",
        "\r\n",
        "Wiki_good=[]\r\n",
        "for i in range(round(len(wiki_good)/2)):\r\n",
        "    ch=wiki_good[(2*i)+1]\r\n",
        "    [l,r] = ch.split(\":\", 1)\r\n",
        "    t1=wiki_good[2*i].replace(\"TARGET\",l)  \r\n",
        "    Wiki_good.append((t1,1))               # affectation de '1' aux lignes extraites du fichier Wiki_good.txt\r\n",
        "\r\n",
        "# Extraction pour le fichier Wiki_bad.txt\r\n",
        "wiki_bad=[]\r\n",
        "line = file1.readline()\r\n",
        "while line:\r\n",
        "      wiki_bad.append(line)\r\n",
        "      line = file1.readline() \r\n",
        "file1.close()\r\n",
        "\r\n",
        "Wiki_bad=[] \r\n",
        "for i in range(round(len(wiki_bad)/2)):\r\n",
        "    ch=wiki_bad[(2*i)+1]\r\n",
        "    [l,r] = ch.split(\":\", 1)\r\n",
        "    t1=wiki_bad[2*i].replace(\"TARGET\",l[1:]) \r\n",
        "    Wiki_bad.append((t1,0))                   # affectation de '0' aux lignes extraites du fichier Wiki_bad.txt \r\n",
        "\r\n",
        "\r\n",
        "# Assemblage des linges extraites dans un dataframe  \r\n",
        "d1=pd.DataFrame(Wiki_good,columns=['CONTENT','CLASS'])\r\n",
        "d2=pd.DataFrame(Wiki_bad,columns=['CONTENT','CLASS'])\r\n",
        "df=pd.concat([d1,d2])\r\n"
      ],
      "execution_count": 3,
      "outputs": []
    },
    {
      "cell_type": "markdown",
      "metadata": {
        "id": "4y5x6P3nn20g"
      },
      "source": [
        "Nous obtenons donc un Dataframe où la première colone nommée 'CONTENT' contient des phrases et la seconde 'CLASS' est la colone des deux classes à prédire.  "
      ]
    },
    {
      "cell_type": "code",
      "metadata": {
        "colab": {
          "base_uri": "https://localhost:8080/",
          "height": 296
        },
        "id": "zB9trEQ1o1wu",
        "outputId": "bac715d1-ba4a-4168-d2b0-4d0cb03af42c"
      },
      "source": [
        "import seaborn as sns\r\n",
        "sns.countplot(x='CLASS', data=df)"
      ],
      "execution_count": 4,
      "outputs": [
        {
          "output_type": "execute_result",
          "data": {
            "text/plain": [
              "<matplotlib.axes._subplots.AxesSubplot at 0x7fa26029c2e8>"
            ]
          },
          "metadata": {
            "tags": []
          },
          "execution_count": 4
        },
        {
          "output_type": "display_data",
          "data": {
            "image/png": "[encoded data removed]",
            "text/plain": [
              "<Figure size 432x288 with 1 Axes>"
            ]
          },
          "metadata": {
            "tags": [],
            "needs_background": "light"
          }
        }
      ]
    },
    {
      "cell_type": "markdown",
      "metadata": {
        "id": "SK6w6584o_6B"
      },
      "source": [
        "**PRETRAITEMENT DES DONNEES**\r\n",
        "\r\n",
        "Avant de faire la classification, puisque dans notre dataframe il ya des erreurs de  des sasie, des caractère spéciaux, et autres expresions unitles dans notre travail nous allons effectuer les prétraitements suivants :\r\n",
        "\r\n",
        "1.   Suppression des paranthèses et leur contenu,car la plus part de ces paranthèses contiennent des synonymes des TARGETs.\r\n",
        "2.   Suppressions des ponctuations et des nombres, car elles sont très fréquentes dans les deux types de fichier, donc unitiles pour la classification.  \r\n",
        "3.   Supressions des espaces multiples, car un espace est un caractère sous python. \r\n",
        "4.   Découper chaque linge de phrases en tocken en les convertissant tous en miniscule. \r\n",
        "5.  Suppression des stop words sauf ceux qui apparaisent le plus souvent dans une définition coomme 'is', 'type', 'an'  par exemple.\r\n",
        "6.  Et la lemmatisation des tokens.     \r\n"
      ]
    },
    {
      "cell_type": "code",
      "metadata": {
        "colab": {
          "base_uri": "https://localhost:8080/",
          "height": 204
        },
        "id": "8AhnhoO555mq",
        "outputId": "137a7ed4-beeb-4fed-880f-f47faa0e17f7"
      },
      "source": [
        "lemma=WordNetLemmatizer()\r\n",
        "wordnet_lemmatizer = WordNetLemmatizer()\r\n",
        "stop_words = set(stopwords.words('english')) \r\n",
        "\r\n",
        "authers_word=['is','a','was','are','were','refers','of','the','type','kind','an','also']  \r\n",
        "\r\n",
        "def processing(sent):\r\n",
        "    sent=re.sub(r'\\([^)]*\\)', '', sent)\r\n",
        "    sent = re.sub('[^a-zA-Z]', ' ', sent)\r\n",
        "    sent = re.sub(r'\\s+', ' ', sent)    \r\n",
        "    tokens=word_tokenize(sent.lower())\r\n",
        "    for w in tokens :  \r\n",
        "        if w in stop_words and w not in authers_word : \r\n",
        "           tokens.remove(w)        \r\n",
        "    tokens=[lemma.lemmatize(w) for w in tokens]\r\n",
        "    return ' '.join(tokens)\r\n",
        "\r\n",
        "df['CONTENT']=df.CONTENT.apply(lambda sent:  processing(processing(sent)))\r\n",
        "df = shuffle(df)\r\n",
        "df.head(5)"
      ],
      "execution_count": 5,
      "outputs": [
        {
          "output_type": "execute_result",
          "data": {
            "text/html": [
              "<div>\n",
              "<style scoped>\n",
              "    .dataframe tbody tr th:only-of-type {\n",
              "        vertical-align: middle;\n",
              "    }\n",
              "\n",
              "    .dataframe tbody tr th {\n",
              "        vertical-align: top;\n",
              "    }\n",
              "\n",
              "    .dataframe thead th {\n",
              "        text-align: right;\n",
              "    }\n",
              "</style>\n",
              "<table border=\"1\" class=\"dataframe\">\n",
              "  <thead>\n",
              "    <tr style=\"text-align: right;\">\n",
              "      <th></th>\n",
              "      <th>CONTENT</th>\n",
              "      <th>CLASS</th>\n",
              "    </tr>\n",
              "  </thead>\n",
              "  <tbody>\n",
              "    <tr>\n",
              "      <th>49</th>\n",
              "      <td>an amateur refers a person attached a particul...</td>\n",
              "      <td>1</td>\n",
              "    </tr>\n",
              "    <tr>\n",
              "      <th>890</th>\n",
              "      <td>tomica later also produced model disney charac...</td>\n",
              "      <td>0</td>\n",
              "    </tr>\n",
              "    <tr>\n",
              "      <th>645</th>\n",
              "      <td>factor increase the activity of cefepime other...</td>\n",
              "      <td>0</td>\n",
              "    </tr>\n",
              "    <tr>\n",
              "      <th>1891</th>\n",
              "      <td>limited account of proscaline found journal ar...</td>\n",
              "      <td>0</td>\n",
              "    </tr>\n",
              "    <tr>\n",
              "      <th>120</th>\n",
              "      <td>adding the protective catshead the gable end o...</td>\n",
              "      <td>0</td>\n",
              "    </tr>\n",
              "  </tbody>\n",
              "</table>\n",
              "</div>"
            ],
            "text/plain": [
              "                                                CONTENT  CLASS\n",
              "49    an amateur refers a person attached a particul...      1\n",
              "890   tomica later also produced model disney charac...      0\n",
              "645   factor increase the activity of cefepime other...      0\n",
              "1891  limited account of proscaline found journal ar...      0\n",
              "120   adding the protective catshead the gable end o...      0"
            ]
          },
          "metadata": {
            "tags": []
          },
          "execution_count": 5
        }
      ]
    },
    {
      "cell_type": "markdown",
      "metadata": {
        "id": "hkLZHFgG0nmK"
      },
      "source": [
        "**CONSTRUCTION DES DONNEES D' APPRENTISSAGE ET DE TEST**\r\n",
        "\r\n",
        "   Dans cette partie nous effectuons les opérations suivantes:\r\n",
        "\r\n",
        "1. construction d'un jeu de données de 80 % des données initiales  pour       l'ensemble d'apprentissage  et 20 % pour l'ensemble test. \r\n",
        "2. Transformation de nos deux jeu de données en matrice en utilisant 5000 mots les plus fréquents du corpus. Avec cet ensemble de mot nous construisons un dictionnaire de mots-index. les différents mots sont alors affectés chacune à une clé unique. Puis nous créons une liste de sous-listes. Chaque sous-liste correspond à une ligne et sont de longeur 50 égale à la dimmention de l'embédding de mots que nous utiliserons dans la suite.Elles auront comme éléments les index associés au mots qu'elles contienent et 0 pour les mots qu'elles ne contiennent pas.         \r\n",
        "  "
      ]
    },
    {
      "cell_type": "code",
      "metadata": {
        "id": "8Qph4FHgw6dh"
      },
      "source": [
        "# Construction de l'ensemble test et de l'ensemble d'apprentissage\r\n",
        "X = []\r\n",
        "sentences = list(df['CONTENT'])\r\n",
        "for sen in sentences:\r\n",
        "    X.append(sen)\r\n",
        "y=np.array(list(df['CLASS']))\r\n",
        "X_train, X_test, y_train, y_test = train_test_split(X, y, test_size=0.20)\r\n",
        "\r\n",
        "# Tokennisation des contenus textuelle des deux ensembles\r\n",
        "tokenizer = Tokenizer(num_words=5000)\r\n",
        "tokenizer.fit_on_texts(X_train)\r\n",
        "X_train = tokenizer.texts_to_sequences(X_train)\r\n",
        "X_test = tokenizer.texts_to_sequences(X_test)\r\n",
        "\r\n",
        "# Transformation de l'ensemble train et l'ensemble test en matrice à contenue numérique\r\n",
        "vocab_size = len(tokenizer.word_index) + 1\r\n",
        "maxlen = 50\r\n",
        "X_train = pad_sequences(X_train, padding='post', maxlen=maxlen)\r\n",
        "X_test = pad_sequences(X_test, padding='post', maxlen=maxlen)"
      ],
      "execution_count": 6,
      "outputs": []
    },
    {
      "cell_type": "markdown",
      "metadata": {
        "id": "Ln9qMPZr6Rmh"
      },
      "source": [
        "**EMBEDDING DE MOTS (GloVe)**\r\n",
        "\r\n",
        "Nous construisons aussi une matrice à partire d'un embédding de mots préentrainé de type Glove qui est basé sur des techniques de factorisation de matrices mot-contexte. cette matrice contient 14569 lignes qui corespondent chacune au unique mots du corpus et est dimension 50.    \r\n"
      ]
    },
    {
      "cell_type": "code",
      "metadata": {
        "id": "L3qGsiRyz8wg",
        "colab": {
          "base_uri": "https://localhost:8080/"
        },
        "outputId": "fbb3810c-45f3-4c0c-b563-df1ff3b53716"
      },
      "source": [
        "from numpy import array\r\n",
        "from numpy import asarray\r\n",
        "from numpy import zeros\r\n",
        "\r\n",
        "embeddings_dictionary = dict()\r\n",
        "glove_file = open('/content/glove.6B.50d.txt', encoding=\"utf8\") # nous téléchargeons l'embédding de mots (GloVe) préentrainé de dimention 50\r\n",
        "for line in glove_file:\r\n",
        "    records = line.split()\r\n",
        "    word = records[0]\r\n",
        "    vector_dimensions = asarray(records[1:], dtype='float32')\r\n",
        "    embeddings_dictionary [word] = vector_dimensions\r\n",
        "glove_file.close()\r\n",
        "\r\n",
        "embedding_matrix = zeros((vocab_size, 50))\r\n",
        "for word, index in tokenizer.word_index.items():\r\n",
        "    embedding_vector = embeddings_dictionary.get(word)\r\n",
        "    if embedding_vector is not None:\r\n",
        "        embedding_matrix[index] = embedding_vector\r\n",
        "\r\n",
        "embedding_matrix.shape       "
      ],
      "execution_count": 7,
      "outputs": [
        {
          "output_type": "execute_result",
          "data": {
            "text/plain": [
              "(14412, 50)"
            ]
          },
          "metadata": {
            "tags": []
          },
          "execution_count": 7
        }
      ]
    },
    {
      "cell_type": "markdown",
      "metadata": {
        "id": "QaatW1UmTGfs"
      },
      "source": [
        "La matrice obtenue ci-dessus nous permetra  donc de construre un couche d'embedding pour les réseaux de neurones que nous évaluerons dans la suite. "
      ]
    },
    {
      "cell_type": "markdown",
      "metadata": {
        "id": "jJ5Bo6VY6kaR"
      },
      "source": [
        "**CLASSIFICATION AVEC UN RESEAU DE NEURONE SIMPLE**\r\n",
        "\r\n",
        "Dans le code ci dessous nous créons un modèle séquentiel.\r\n",
        "\r\n",
        "Puis, nous créons une couche d'embédding dont l'input et l'output sont de longeur 50.la Talle du vocabulare est 720750.\r\n",
        "\r\n",
        "Nous utlisons comme foction d'activation pour la couche de sortie de ce modèle la fonction sigmoide.\r\n",
        "\r\n",
        "Et pout son evaluation nous utlison l'optimiser adam , binary_crossentropy pour la foction de perte et l'acurracy pour la metrique.  "
      ]
    },
    {
      "cell_type": "code",
      "metadata": {
        "id": "1xc2ldv_0qUR",
        "colab": {
          "base_uri": "https://localhost:8080/"
        },
        "outputId": "6e1b922e-a62e-4845-8ace-9c2b08910aa9"
      },
      "source": [
        "model = Sequential()\r\n",
        "embedding_layer = Embedding(vocab_size, 50, weights=[embedding_matrix], input_length=maxlen , trainable=False)\r\n",
        "model.add(embedding_layer)\r\n",
        "model.add(Flatten())\r\n",
        "model.add(Dense(1, activation='sigmoid'))\r\n",
        "\r\n",
        "model.compile(optimizer='adam', loss='binary_crossentropy', metrics=['acc'])\r\n",
        "print(model.summary())"
      ],
      "execution_count": 8,
      "outputs": [
        {
          "output_type": "stream",
          "text": [
            "Model: \"sequential\"\n",
            "_________________________________________________________________\n",
            "Layer (type)                 Output Shape              Param #   \n",
            "=================================================================\n",
            "embedding (Embedding)        (None, 50, 50)            720600    \n",
            "_________________________________________________________________\n",
            "flatten (Flatten)            (None, 2500)              0         \n",
            "_________________________________________________________________\n",
            "dense (Dense)                (None, 1)                 2501      \n",
            "=================================================================\n",
            "Total params: 723,101\n",
            "Trainable params: 2,501\n",
            "Non-trainable params: 720,600\n",
            "_________________________________________________________________\n",
            "None\n"
          ],
          "name": "stdout"
        }
      ]
    },
    {
      "cell_type": "markdown",
      "metadata": {
        "id": "j5PLskYXHxZ8"
      },
      "source": [
        "Avec le nombre d'instance (batch_size) fixé à 128 pour la mise à jour des poids et le nombre d'époche fixé à 50 nous obtenons les résultats suivants :"
      ]
    },
    {
      "cell_type": "code",
      "metadata": {
        "colab": {
          "base_uri": "https://localhost:8080/"
        },
        "id": "mbt-LD5-06Ja",
        "outputId": "661ae806-d731-41f5-b7b9-f59179b109b0"
      },
      "source": [
        "history = model.fit(X_train, y_train, batch_size=128, epochs=50, verbose=1, validation_split=0.2)"
      ],
      "execution_count": 9,
      "outputs": [
        {
          "output_type": "stream",
          "text": [
            "Epoch 1/50\n",
            "24/24 [==============================] - 1s 30ms/step - loss: 0.7098 - acc: 0.5101 - val_loss: 0.6113 - val_acc: 0.6698\n",
            "Epoch 2/50\n",
            "24/24 [==============================] - 0s 3ms/step - loss: 0.5660 - acc: 0.7254 - val_loss: 0.5397 - val_acc: 0.7564\n",
            "Epoch 3/50\n",
            "24/24 [==============================] - 0s 3ms/step - loss: 0.5057 - acc: 0.7891 - val_loss: 0.4970 - val_acc: 0.7903\n",
            "Epoch 4/50\n",
            "24/24 [==============================] - 0s 4ms/step - loss: 0.4640 - acc: 0.8115 - val_loss: 0.4704 - val_acc: 0.8092\n",
            "Epoch 5/50\n",
            "24/24 [==============================] - 0s 3ms/step - loss: 0.4307 - acc: 0.8347 - val_loss: 0.4495 - val_acc: 0.8227\n",
            "Epoch 6/50\n",
            "24/24 [==============================] - 0s 4ms/step - loss: 0.4039 - acc: 0.8536 - val_loss: 0.4383 - val_acc: 0.8214\n",
            "Epoch 7/50\n",
            "24/24 [==============================] - 0s 3ms/step - loss: 0.3931 - acc: 0.8463 - val_loss: 0.4234 - val_acc: 0.8295\n",
            "Epoch 8/50\n",
            "24/24 [==============================] - 0s 4ms/step - loss: 0.3628 - acc: 0.8697 - val_loss: 0.4161 - val_acc: 0.8295\n",
            "Epoch 9/50\n",
            "24/24 [==============================] - 0s 4ms/step - loss: 0.3523 - acc: 0.8692 - val_loss: 0.4067 - val_acc: 0.8363\n",
            "Epoch 10/50\n",
            "24/24 [==============================] - 0s 4ms/step - loss: 0.3522 - acc: 0.8705 - val_loss: 0.4039 - val_acc: 0.8281\n",
            "Epoch 11/50\n",
            "24/24 [==============================] - 0s 4ms/step - loss: 0.3327 - acc: 0.8813 - val_loss: 0.3963 - val_acc: 0.8390\n",
            "Epoch 12/50\n",
            "24/24 [==============================] - 0s 4ms/step - loss: 0.3330 - acc: 0.8845 - val_loss: 0.3946 - val_acc: 0.8376\n",
            "Epoch 13/50\n",
            "24/24 [==============================] - 0s 4ms/step - loss: 0.3207 - acc: 0.8789 - val_loss: 0.3920 - val_acc: 0.8376\n",
            "Epoch 14/50\n",
            "24/24 [==============================] - 0s 4ms/step - loss: 0.3107 - acc: 0.8838 - val_loss: 0.3898 - val_acc: 0.8336\n",
            "Epoch 15/50\n",
            "24/24 [==============================] - 0s 4ms/step - loss: 0.3079 - acc: 0.8905 - val_loss: 0.3864 - val_acc: 0.8376\n",
            "Epoch 16/50\n",
            "24/24 [==============================] - 0s 4ms/step - loss: 0.3025 - acc: 0.8835 - val_loss: 0.3850 - val_acc: 0.8349\n",
            "Epoch 17/50\n",
            "24/24 [==============================] - 0s 4ms/step - loss: 0.2994 - acc: 0.8889 - val_loss: 0.3834 - val_acc: 0.8349\n",
            "Epoch 18/50\n",
            "24/24 [==============================] - 0s 4ms/step - loss: 0.2922 - acc: 0.8899 - val_loss: 0.3812 - val_acc: 0.8376\n",
            "Epoch 19/50\n",
            "24/24 [==============================] - 0s 4ms/step - loss: 0.2902 - acc: 0.8957 - val_loss: 0.3802 - val_acc: 0.8336\n",
            "Epoch 20/50\n",
            "24/24 [==============================] - 0s 4ms/step - loss: 0.2967 - acc: 0.8916 - val_loss: 0.3773 - val_acc: 0.8417\n",
            "Epoch 21/50\n",
            "24/24 [==============================] - 0s 4ms/step - loss: 0.2784 - acc: 0.9011 - val_loss: 0.3775 - val_acc: 0.8417\n",
            "Epoch 22/50\n",
            "24/24 [==============================] - 0s 4ms/step - loss: 0.2858 - acc: 0.8948 - val_loss: 0.3778 - val_acc: 0.8417\n",
            "Epoch 23/50\n",
            "24/24 [==============================] - 0s 4ms/step - loss: 0.2684 - acc: 0.9017 - val_loss: 0.3765 - val_acc: 0.8376\n",
            "Epoch 24/50\n",
            "24/24 [==============================] - 0s 3ms/step - loss: 0.2704 - acc: 0.9015 - val_loss: 0.3764 - val_acc: 0.8376\n",
            "Epoch 25/50\n",
            "24/24 [==============================] - 0s 4ms/step - loss: 0.2682 - acc: 0.8997 - val_loss: 0.3771 - val_acc: 0.8363\n",
            "Epoch 26/50\n",
            "24/24 [==============================] - 0s 4ms/step - loss: 0.2713 - acc: 0.9001 - val_loss: 0.3788 - val_acc: 0.8349\n",
            "Epoch 27/50\n",
            "24/24 [==============================] - 0s 4ms/step - loss: 0.2638 - acc: 0.9023 - val_loss: 0.3784 - val_acc: 0.8376\n",
            "Epoch 28/50\n",
            "24/24 [==============================] - 0s 5ms/step - loss: 0.2530 - acc: 0.9096 - val_loss: 0.3773 - val_acc: 0.8390\n",
            "Epoch 29/50\n",
            "24/24 [==============================] - 0s 3ms/step - loss: 0.2587 - acc: 0.9029 - val_loss: 0.3779 - val_acc: 0.8390\n",
            "Epoch 30/50\n",
            "24/24 [==============================] - 0s 4ms/step - loss: 0.2564 - acc: 0.9043 - val_loss: 0.3794 - val_acc: 0.8430\n",
            "Epoch 31/50\n",
            "24/24 [==============================] - 0s 5ms/step - loss: 0.2509 - acc: 0.9089 - val_loss: 0.3768 - val_acc: 0.8417\n",
            "Epoch 32/50\n",
            "24/24 [==============================] - 0s 4ms/step - loss: 0.2450 - acc: 0.9110 - val_loss: 0.3776 - val_acc: 0.8417\n",
            "Epoch 33/50\n",
            "24/24 [==============================] - 0s 3ms/step - loss: 0.2476 - acc: 0.9152 - val_loss: 0.3801 - val_acc: 0.8430\n",
            "Epoch 34/50\n",
            "24/24 [==============================] - 0s 4ms/step - loss: 0.2396 - acc: 0.9192 - val_loss: 0.3792 - val_acc: 0.8403\n",
            "Epoch 35/50\n",
            "24/24 [==============================] - 0s 4ms/step - loss: 0.2498 - acc: 0.9081 - val_loss: 0.3800 - val_acc: 0.8403\n",
            "Epoch 36/50\n",
            "24/24 [==============================] - 0s 4ms/step - loss: 0.2385 - acc: 0.9213 - val_loss: 0.3786 - val_acc: 0.8417\n",
            "Epoch 37/50\n",
            "24/24 [==============================] - 0s 4ms/step - loss: 0.2338 - acc: 0.9150 - val_loss: 0.3813 - val_acc: 0.8417\n",
            "Epoch 38/50\n",
            "24/24 [==============================] - 0s 4ms/step - loss: 0.2426 - acc: 0.9205 - val_loss: 0.3805 - val_acc: 0.8430\n",
            "Epoch 39/50\n",
            "24/24 [==============================] - 0s 4ms/step - loss: 0.2396 - acc: 0.9155 - val_loss: 0.3798 - val_acc: 0.8430\n",
            "Epoch 40/50\n",
            "24/24 [==============================] - 0s 4ms/step - loss: 0.2343 - acc: 0.9200 - val_loss: 0.3830 - val_acc: 0.8417\n",
            "Epoch 41/50\n",
            "24/24 [==============================] - 0s 4ms/step - loss: 0.2244 - acc: 0.9275 - val_loss: 0.3825 - val_acc: 0.8417\n",
            "Epoch 42/50\n",
            "24/24 [==============================] - 0s 4ms/step - loss: 0.2238 - acc: 0.9300 - val_loss: 0.3829 - val_acc: 0.8430\n",
            "Epoch 43/50\n",
            "24/24 [==============================] - 0s 4ms/step - loss: 0.2371 - acc: 0.9200 - val_loss: 0.3850 - val_acc: 0.8417\n",
            "Epoch 44/50\n",
            "24/24 [==============================] - 0s 3ms/step - loss: 0.2286 - acc: 0.9283 - val_loss: 0.3844 - val_acc: 0.8444\n",
            "Epoch 45/50\n",
            "24/24 [==============================] - 0s 4ms/step - loss: 0.2336 - acc: 0.9255 - val_loss: 0.3847 - val_acc: 0.8430\n",
            "Epoch 46/50\n",
            "24/24 [==============================] - 0s 4ms/step - loss: 0.2185 - acc: 0.9245 - val_loss: 0.3894 - val_acc: 0.8322\n",
            "Epoch 47/50\n",
            "24/24 [==============================] - 0s 4ms/step - loss: 0.2115 - acc: 0.9299 - val_loss: 0.3871 - val_acc: 0.8417\n",
            "Epoch 48/50\n",
            "24/24 [==============================] - 0s 4ms/step - loss: 0.2183 - acc: 0.9247 - val_loss: 0.3889 - val_acc: 0.8403\n",
            "Epoch 49/50\n",
            "24/24 [==============================] - 0s 5ms/step - loss: 0.2290 - acc: 0.9235 - val_loss: 0.3905 - val_acc: 0.8403\n",
            "Epoch 50/50\n",
            "24/24 [==============================] - 0s 4ms/step - loss: 0.2067 - acc: 0.9304 - val_loss: 0.3905 - val_acc: 0.8376\n"
          ],
          "name": "stdout"
        }
      ]
    },
    {
      "cell_type": "markdown",
      "metadata": {
        "id": "ZyeTs5vaI6jy"
      },
      "source": [
        "Ci-dessous nous calculons la moyenne des écarts pour détecter l'overfiting:   "
      ]
    },
    {
      "cell_type": "code",
      "metadata": {
        "colab": {
          "base_uri": "https://localhost:8080/"
        },
        "id": "xbQs8KF3E6Rn",
        "outputId": "34214a2c-836f-4336-dd0b-7e0899e424c9"
      },
      "source": [
        "# Moyenne des écarts entre les Accurracies sur les données d'apprentissage et Les Accurracies sur les données de validation\r\n",
        "\r\n",
        "def Ecart_Moy(L1,L2): #definition de la fonction pour  moyenne des écats\r\n",
        "  S=[]\r\n",
        "  for i in range(len(L1)):\r\n",
        "      S.append(abs(L1[i]-L2[i]))\r\n",
        "  print(sum(S)/len(L1))\r\n",
        "\r\n",
        "L1=history.history['acc']\r\n",
        "L2=history.history['val_acc']\r\n",
        "Ecart_Moy(L1,L2)"
      ],
      "execution_count": 10,
      "outputs": [
        {
          "output_type": "stream",
          "text": [
            "0.06035858750343323\n"
          ],
          "name": "stdout"
        }
      ]
    },
    {
      "cell_type": "markdown",
      "metadata": {
        "id": "77WWpB6ZJZjO"
      },
      "source": [
        "Loss et Accurracy du modèle sur l'ensemble test:  "
      ]
    },
    {
      "cell_type": "code",
      "metadata": {
        "colab": {
          "base_uri": "https://localhost:8080/"
        },
        "id": "N82DC8_z3Kva",
        "outputId": "80433201-0144-46e5-e4dd-5fee54c51446"
      },
      "source": [
        "score = model.evaluate(X_test, y_test, verbose=1)\r\n",
        "print(\"Test Loss\", score[0])\r\n",
        "print(\"Test Accuracy:\", score[1])"
      ],
      "execution_count": 11,
      "outputs": [
        {
          "output_type": "stream",
          "text": [
            "29/29 [==============================] - 0s 1ms/step - loss: 0.4030 - acc: 0.8084\n",
            "Test Loss 0.4030126929283142\n",
            "Test Accuracy: 0.8084415793418884\n"
          ],
          "name": "stdout"
        }
      ]
    },
    {
      "cell_type": "markdown",
      "metadata": {
        "id": "pYjUmjUoMDvb"
      },
      "source": [
        "À la fin de l'apprentissage , on observe que la moyenne de ecarts entre acurray est autour de 0,08.  \r\n",
        "\r\n",
        "D'autre part nous avons l'accuracy de ce modèle sur l'ensemble test qui vaut 83 %.Ce poucentage aussi nous permetra de comparer ce model aux autre modèles que nous évaluerons dans la suite.           \r\n",
        "\r\n",
        "L'écart observé est aussi visible sur les deux graphiques ci dessous."
      ]
    },
    {
      "cell_type": "code",
      "metadata": {
        "colab": {
          "base_uri": "https://localhost:8080/",
          "height": 573
        },
        "id": "Q6ehKCfC3ZFF",
        "outputId": "fd48f58e-5c81-475b-a152-8da61a377234"
      },
      "source": [
        "from matplotlib import pyplot as plt\r\n",
        "\r\n",
        "plt.plot(history.history['acc'])\r\n",
        "plt.plot(history.history['val_acc'])\r\n",
        "\r\n",
        "plt.title('model accuracy')\r\n",
        "plt.ylabel('accuracy')\r\n",
        "plt.xlabel('epoch')\r\n",
        "plt.legend(['train','test'], loc='upper left')\r\n",
        "plt.show()\r\n",
        "\r\n",
        "plt.plot(history.history['loss'])\r\n",
        "plt.plot(history.history['val_loss'])\r\n",
        "\r\n",
        "plt.title('model loss')\r\n",
        "plt.ylabel('loss')\r\n",
        "plt.xlabel('epoch')\r\n",
        "plt.legend(['train','test'], loc='upper left')\r\n",
        "plt.show()"
      ],
      "execution_count": 12,
      "outputs": [
        {
          "output_type": "display_data",
          "data": {
            "image/png": "[encoded data removed]",
            "text/plain": [
              "<Figure size 432x288 with 1 Axes>"
            ]
          },
          "metadata": {
            "tags": [],
            "needs_background": "light"
          }
        },
        {
          "output_type": "display_data",
          "data": {
            "image/png": "[encoded data removed]",
            "text/plain": [
              "<Figure size 432x288 with 1 Axes>"
            ]
          },
          "metadata": {
            "tags": [],
            "needs_background": "light"
          }
        }
      ]
    },
    {
      "cell_type": "markdown",
      "metadata": {
        "id": "7eHgHRgAOB2V"
      },
      "source": [
        "Les deux courbes divergent sur les deux figures.nous avons donc la présence de l'overfiting.\r\n"
      ]
    },
    {
      "cell_type": "markdown",
      "metadata": {
        "id": "eJY7AzCK64Lj"
      },
      "source": [
        "**CLASSIFICATION AVEC UN RESEAU DE NEURONE CONVOLUTIF**\r\n",
        "\r\n",
        "Dans le code ci dessous nous créons un modèle séquentiel.\r\n",
        "\r\n",
        "Puis, nous créons une couche d'embédding dont l'input et l'output sont de longeur 50.la Talle du vocabulare est 720750.\r\n",
        "\r\n",
        "Nous créons ensuite un réseau de neurone covolutionnel à 1-Dimention dont le  nobre de kernels est 128. La fonction d'activation utilisée à ce niveau est 'rélu'. \r\n",
        "\r\n",
        "Nous ajoutons aussi une couche pour réduire la taille des features.\r\n",
        "\r\n",
        "Nous utlisons comme fonction d'activation pour la couche de sortie de ce modèle la fonction sigmoide.\r\n",
        "\r\n",
        "Et pout son evaluation nous utlison l'optimiser adam , binary_crossentropy pour la foction de perte et l'acurracy pour la métrique."
      ]
    },
    {
      "cell_type": "code",
      "metadata": {
        "id": "JYha0G4_4DxE",
        "colab": {
          "base_uri": "https://localhost:8080/"
        },
        "outputId": "cade5aa9-fc9b-4260-b021-89febf84f502"
      },
      "source": [
        "from keras.layers.convolutional import Conv1D \r\n",
        "model = Sequential()\r\n",
        "\r\n",
        "embedding_layer = Embedding(vocab_size, 50, weights=[embedding_matrix], input_length=maxlen , trainable=False)\r\n",
        "model.add(embedding_layer)\r\n",
        "\r\n",
        "model.add(Conv1D(128, 5, activation='relu'))\r\n",
        "model.add(GlobalMaxPooling1D())\r\n",
        "model.add(Dense(1, activation='sigmoid'))\r\n",
        "model.compile(optimizer='adam', loss='binary_crossentropy', metrics=['acc'])\r\n",
        "print(model.summary())"
      ],
      "execution_count": 13,
      "outputs": [
        {
          "output_type": "stream",
          "text": [
            "Model: \"sequential_1\"\n",
            "_________________________________________________________________\n",
            "Layer (type)                 Output Shape              Param #   \n",
            "=================================================================\n",
            "embedding_1 (Embedding)      (None, 50, 50)            720600    \n",
            "_________________________________________________________________\n",
            "conv1d (Conv1D)              (None, 46, 128)           32128     \n",
            "_________________________________________________________________\n",
            "global_max_pooling1d (Global (None, 128)               0         \n",
            "_________________________________________________________________\n",
            "dense_1 (Dense)              (None, 1)                 129       \n",
            "=================================================================\n",
            "Total params: 752,857\n",
            "Trainable params: 32,257\n",
            "Non-trainable params: 720,600\n",
            "_________________________________________________________________\n",
            "None\n"
          ],
          "name": "stdout"
        }
      ]
    },
    {
      "cell_type": "markdown",
      "metadata": {
        "id": "mQya-HDT5b1R"
      },
      "source": [
        "Avec le nombre d'instance (batch_size) fixé à 128 pour la mise à jour des poids et le nombre d'époche fixé à 50 nous obtenons les résultats suivants :\r\n",
        "\r\n"
      ]
    },
    {
      "cell_type": "code",
      "metadata": {
        "colab": {
          "base_uri": "https://localhost:8080/"
        },
        "id": "mWcux6154r9h",
        "outputId": "f3ed6548-35e2-4d58-9c2a-27224c181717"
      },
      "source": [
        "history = model.fit(X_train, y_train, batch_size=128, epochs=50, verbose=1, validation_split=0.2)\r\n"
      ],
      "execution_count": 14,
      "outputs": [
        {
          "output_type": "stream",
          "text": [
            "Epoch 1/50\n",
            "24/24 [==============================] - 1s 37ms/step - loss: 0.6252 - acc: 0.6354 - val_loss: 0.4925 - val_acc: 0.7781\n",
            "Epoch 2/50\n",
            "24/24 [==============================] - 1s 30ms/step - loss: 0.4559 - acc: 0.8003 - val_loss: 0.4241 - val_acc: 0.8119\n",
            "Epoch 3/50\n",
            "24/24 [==============================] - 1s 29ms/step - loss: 0.3822 - acc: 0.8500 - val_loss: 0.3824 - val_acc: 0.8268\n",
            "Epoch 4/50\n",
            "24/24 [==============================] - 1s 29ms/step - loss: 0.3177 - acc: 0.8847 - val_loss: 0.3593 - val_acc: 0.8376\n",
            "Epoch 5/50\n",
            "24/24 [==============================] - 1s 29ms/step - loss: 0.2836 - acc: 0.8962 - val_loss: 0.3412 - val_acc: 0.8525\n",
            "Epoch 6/50\n",
            "24/24 [==============================] - 1s 29ms/step - loss: 0.2533 - acc: 0.9182 - val_loss: 0.3292 - val_acc: 0.8660\n",
            "Epoch 7/50\n",
            "24/24 [==============================] - 1s 30ms/step - loss: 0.2275 - acc: 0.9297 - val_loss: 0.3193 - val_acc: 0.8769\n",
            "Epoch 8/50\n",
            "24/24 [==============================] - 1s 29ms/step - loss: 0.1974 - acc: 0.9407 - val_loss: 0.3101 - val_acc: 0.8782\n",
            "Epoch 9/50\n",
            "24/24 [==============================] - 1s 29ms/step - loss: 0.1729 - acc: 0.9600 - val_loss: 0.3008 - val_acc: 0.8877\n",
            "Epoch 10/50\n",
            "24/24 [==============================] - 1s 29ms/step - loss: 0.1604 - acc: 0.9596 - val_loss: 0.3108 - val_acc: 0.8701\n",
            "Epoch 11/50\n",
            "24/24 [==============================] - 1s 30ms/step - loss: 0.1484 - acc: 0.9670 - val_loss: 0.2934 - val_acc: 0.8769\n",
            "Epoch 12/50\n",
            "24/24 [==============================] - 1s 31ms/step - loss: 0.1345 - acc: 0.9755 - val_loss: 0.3023 - val_acc: 0.8823\n",
            "Epoch 13/50\n",
            "24/24 [==============================] - 1s 29ms/step - loss: 0.1187 - acc: 0.9801 - val_loss: 0.2871 - val_acc: 0.8809\n",
            "Epoch 14/50\n",
            "24/24 [==============================] - 1s 30ms/step - loss: 0.1014 - acc: 0.9877 - val_loss: 0.2867 - val_acc: 0.8850\n",
            "Epoch 15/50\n",
            "24/24 [==============================] - 1s 29ms/step - loss: 0.0954 - acc: 0.9881 - val_loss: 0.2853 - val_acc: 0.8823\n",
            "Epoch 16/50\n",
            "24/24 [==============================] - 1s 37ms/step - loss: 0.0805 - acc: 0.9939 - val_loss: 0.2843 - val_acc: 0.8877\n",
            "Epoch 17/50\n",
            "24/24 [==============================] - 1s 30ms/step - loss: 0.0790 - acc: 0.9936 - val_loss: 0.2848 - val_acc: 0.8836\n",
            "Epoch 18/50\n",
            "24/24 [==============================] - 1s 30ms/step - loss: 0.0661 - acc: 0.9961 - val_loss: 0.2921 - val_acc: 0.8782\n",
            "Epoch 19/50\n",
            "24/24 [==============================] - 1s 30ms/step - loss: 0.0666 - acc: 0.9948 - val_loss: 0.2830 - val_acc: 0.8877\n",
            "Epoch 20/50\n",
            "24/24 [==============================] - 1s 29ms/step - loss: 0.0575 - acc: 0.9976 - val_loss: 0.2841 - val_acc: 0.8917\n",
            "Epoch 21/50\n",
            "24/24 [==============================] - 1s 29ms/step - loss: 0.0507 - acc: 0.9978 - val_loss: 0.2903 - val_acc: 0.8823\n",
            "Epoch 22/50\n",
            "24/24 [==============================] - 1s 29ms/step - loss: 0.0439 - acc: 0.9997 - val_loss: 0.2851 - val_acc: 0.8890\n",
            "Epoch 23/50\n",
            "24/24 [==============================] - 1s 29ms/step - loss: 0.0410 - acc: 0.9993 - val_loss: 0.3010 - val_acc: 0.8769\n",
            "Epoch 24/50\n",
            "24/24 [==============================] - 1s 30ms/step - loss: 0.0387 - acc: 0.9982 - val_loss: 0.2888 - val_acc: 0.8863\n",
            "Epoch 25/50\n",
            "24/24 [==============================] - 1s 29ms/step - loss: 0.0334 - acc: 0.9991 - val_loss: 0.2977 - val_acc: 0.8796\n",
            "Epoch 26/50\n",
            "24/24 [==============================] - 1s 28ms/step - loss: 0.0315 - acc: 0.9996 - val_loss: 0.2908 - val_acc: 0.8823\n",
            "Epoch 27/50\n",
            "24/24 [==============================] - 1s 29ms/step - loss: 0.0282 - acc: 0.9999 - val_loss: 0.2923 - val_acc: 0.8823\n",
            "Epoch 28/50\n",
            "24/24 [==============================] - 1s 30ms/step - loss: 0.0253 - acc: 0.9999 - val_loss: 0.2955 - val_acc: 0.8809\n",
            "Epoch 29/50\n",
            "24/24 [==============================] - 1s 29ms/step - loss: 0.0240 - acc: 0.9998 - val_loss: 0.2988 - val_acc: 0.8836\n",
            "Epoch 30/50\n",
            "24/24 [==============================] - 1s 29ms/step - loss: 0.0235 - acc: 1.0000 - val_loss: 0.2964 - val_acc: 0.8796\n",
            "Epoch 31/50\n",
            "24/24 [==============================] - 1s 31ms/step - loss: 0.0208 - acc: 1.0000 - val_loss: 0.3007 - val_acc: 0.8809\n",
            "Epoch 32/50\n",
            "24/24 [==============================] - 1s 30ms/step - loss: 0.0190 - acc: 1.0000 - val_loss: 0.3030 - val_acc: 0.8823\n",
            "Epoch 33/50\n",
            "24/24 [==============================] - 1s 29ms/step - loss: 0.0179 - acc: 1.0000 - val_loss: 0.3024 - val_acc: 0.8890\n",
            "Epoch 34/50\n",
            "24/24 [==============================] - 1s 30ms/step - loss: 0.0173 - acc: 1.0000 - val_loss: 0.3044 - val_acc: 0.8850\n",
            "Epoch 35/50\n",
            "24/24 [==============================] - 1s 30ms/step - loss: 0.0156 - acc: 1.0000 - val_loss: 0.3088 - val_acc: 0.8836\n",
            "Epoch 36/50\n",
            "24/24 [==============================] - 1s 29ms/step - loss: 0.0145 - acc: 1.0000 - val_loss: 0.3072 - val_acc: 0.8823\n",
            "Epoch 37/50\n",
            "24/24 [==============================] - 1s 29ms/step - loss: 0.0137 - acc: 1.0000 - val_loss: 0.3100 - val_acc: 0.8836\n",
            "Epoch 38/50\n",
            "24/24 [==============================] - 1s 29ms/step - loss: 0.0126 - acc: 1.0000 - val_loss: 0.3120 - val_acc: 0.8863\n",
            "Epoch 39/50\n",
            "24/24 [==============================] - 1s 30ms/step - loss: 0.0122 - acc: 1.0000 - val_loss: 0.3135 - val_acc: 0.8850\n",
            "Epoch 40/50\n",
            "24/24 [==============================] - 1s 29ms/step - loss: 0.0111 - acc: 1.0000 - val_loss: 0.3162 - val_acc: 0.8836\n",
            "Epoch 41/50\n",
            "24/24 [==============================] - 1s 30ms/step - loss: 0.0106 - acc: 1.0000 - val_loss: 0.3179 - val_acc: 0.8850\n",
            "Epoch 42/50\n",
            "24/24 [==============================] - 1s 29ms/step - loss: 0.0099 - acc: 1.0000 - val_loss: 0.3160 - val_acc: 0.8850\n",
            "Epoch 43/50\n",
            "24/24 [==============================] - 1s 30ms/step - loss: 0.0093 - acc: 1.0000 - val_loss: 0.3223 - val_acc: 0.8850\n",
            "Epoch 44/50\n",
            "24/24 [==============================] - 1s 30ms/step - loss: 0.0090 - acc: 1.0000 - val_loss: 0.3258 - val_acc: 0.8863\n",
            "Epoch 45/50\n",
            "24/24 [==============================] - 1s 30ms/step - loss: 0.0087 - acc: 1.0000 - val_loss: 0.3222 - val_acc: 0.8836\n",
            "Epoch 46/50\n",
            "24/24 [==============================] - 1s 31ms/step - loss: 0.0082 - acc: 1.0000 - val_loss: 0.3252 - val_acc: 0.8850\n",
            "Epoch 47/50\n",
            "24/24 [==============================] - 1s 30ms/step - loss: 0.0077 - acc: 1.0000 - val_loss: 0.3271 - val_acc: 0.8863\n",
            "Epoch 48/50\n",
            "24/24 [==============================] - 1s 29ms/step - loss: 0.0072 - acc: 1.0000 - val_loss: 0.3251 - val_acc: 0.8823\n",
            "Epoch 49/50\n",
            "24/24 [==============================] - 1s 29ms/step - loss: 0.0072 - acc: 1.0000 - val_loss: 0.3298 - val_acc: 0.8823\n",
            "Epoch 50/50\n",
            "24/24 [==============================] - 1s 30ms/step - loss: 0.0065 - acc: 1.0000 - val_loss: 0.3276 - val_acc: 0.8796\n"
          ],
          "name": "stdout"
        }
      ]
    },
    {
      "cell_type": "markdown",
      "metadata": {
        "id": "KX3DAU6KPPub"
      },
      "source": [
        "Ci-dessous nous calculons la moyenne des écarts pour détecter l'overfiting:"
      ]
    },
    {
      "cell_type": "code",
      "metadata": {
        "colab": {
          "base_uri": "https://localhost:8080/"
        },
        "id": "_ZgxTbJOFxR-",
        "outputId": "20aeb622-bc94-495f-f9af-69c2ee7c463f"
      },
      "source": [
        "# Moyenne des écarts entre les Accurracies sur les données d'apprentissage et Les Accurracies sur les données de validation\r\n",
        "L1=history.history['acc']\r\n",
        "L2=history.history['val_acc']\r\n",
        "Ecart_Moy(L1,L2)"
      ],
      "execution_count": 15,
      "outputs": [
        {
          "output_type": "stream",
          "text": [
            "0.1012449324131012\n"
          ],
          "name": "stdout"
        }
      ]
    },
    {
      "cell_type": "markdown",
      "metadata": {
        "id": "9TrYWxOpLq8-"
      },
      "source": [
        "Loss et Accurracy du modèle CNN sur l'ensemble test:"
      ]
    },
    {
      "cell_type": "code",
      "metadata": {
        "colab": {
          "base_uri": "https://localhost:8080/"
        },
        "id": "RIDPLlD04yK-",
        "outputId": "f2cde0d1-eea3-4700-ac4f-459ca4969d46"
      },
      "source": [
        "score = model.evaluate(X_test, y_test, verbose=1)\r\n",
        "print(\"Test Loss:\", score[0])\r\n",
        "print(\"Test Accuracy:\", score[1])"
      ],
      "execution_count": 16,
      "outputs": [
        {
          "output_type": "stream",
          "text": [
            "29/29 [==============================] - 0s 3ms/step - loss: 0.3670 - acc: 0.8647\n",
            "Test Loss: 0.3670016825199127\n",
            "Test Accuracy: 0.8647186160087585\n"
          ],
          "name": "stdout"
        }
      ]
    },
    {
      "cell_type": "markdown",
      "metadata": {
        "id": "hs4-5Y56561D"
      },
      "source": [
        "Après l'apprentissage , nous avont que la moyenne des ecarts entre accurray pour ce modèle est supérieur à celui du modèle précédent d'où la présence de l'overfiting.\r\n",
        "\r\n",
        "A part la présence de l'overfiting, ce model qui procède par la réduction des features, à quand même une performance supérieure à celle du modèle précédent sur l'ensemble test. Son accuracy 87% sur cet ensemble étant supérieur à celui du modèle précedant 83 %.    \r\n",
        "\r\n",
        "L'écart observé est aussi visible sur les deux graphiques ci dessous."
      ]
    },
    {
      "cell_type": "code",
      "metadata": {
        "colab": {
          "base_uri": "https://localhost:8080/",
          "height": 573
        },
        "id": "NUcEkju05ERH",
        "outputId": "0eb7ca06-449b-4275-ac94-a298c2db6679"
      },
      "source": [
        "import matplotlib.pyplot as plt\r\n",
        "\r\n",
        "plt.plot(history.history['acc'])\r\n",
        "plt.plot(history.history['val_acc'])\r\n",
        "\r\n",
        "plt.title('model accuracy')\r\n",
        "plt.ylabel('accuracy')\r\n",
        "plt.xlabel('epoch')\r\n",
        "plt.legend(['train','test'], loc = 'upper left')\r\n",
        "plt.show()\r\n",
        "\r\n",
        "plt.plot(history.history['loss'])\r\n",
        "plt.plot(history.history['val_loss'])\r\n",
        "\r\n",
        "plt.title('model loss')\r\n",
        "plt.ylabel('loss')\r\n",
        "plt.xlabel('epoch')\r\n",
        "plt.legend(['train','test'], loc = 'upper left')\r\n",
        "plt.show()"
      ],
      "execution_count": 17,
      "outputs": [
        {
          "output_type": "display_data",
          "data": {
            "image/png": "[encoded data removed]",
            "text/plain": [
              "<Figure size 432x288 with 1 Axes>"
            ]
          },
          "metadata": {
            "tags": [],
            "needs_background": "light"
          }
        },
        {
          "output_type": "display_data",
          "data": {
            "image/png": "[encoded data removed]",
            "text/plain": [
              "<Figure size 432x288 with 1 Axes>"
            ]
          },
          "metadata": {
            "tags": [],
            "needs_background": "light"
          }
        }
      ]
    },
    {
      "cell_type": "markdown",
      "metadata": {
        "id": "Scjb44an7snE"
      },
      "source": [
        "**CLASSIFICATION AVEC LSTM**\r\n",
        "\r\n",
        "Comme précédemment nous créons un modèle séquentiel avec une couche d'embédding. \r\n",
        "\r\n",
        "Puis, nous créons une couche LSTM dont le nombre de neurones est 128.  \r\n",
        "\r\n",
        "Nous utlisons comme fonction d'activation pour la couche de sortie de ce modèle la fonction sigmoide.\r\n",
        "\r\n",
        "Et pout son évaluation nous utlison l'optimiser adam , binary_crossentropy pour la foction de perte et l'acurracy pour la métrique."
      ]
    },
    {
      "cell_type": "code",
      "metadata": {
        "id": "6kdV3tJY5S80",
        "colab": {
          "base_uri": "https://localhost:8080/"
        },
        "outputId": "2604caf3-07eb-4eb4-e4f5-1fb3087b674c"
      },
      "source": [
        "from keras.layers.recurrent import LSTM\r\n",
        "model = Sequential()\r\n",
        "embedding_layer = Embedding(vocab_size, 50, weights=[embedding_matrix], input_length=maxlen , trainable=False)\r\n",
        "model.add(embedding_layer)\r\n",
        "model.add(LSTM(128))\r\n",
        "model.add(Dense(1, activation='sigmoid'))\r\n",
        "model.compile(optimizer='adam', loss='binary_crossentropy', metrics=['acc'])\r\n",
        "\r\n",
        "print(model.summary())"
      ],
      "execution_count": 18,
      "outputs": [
        {
          "output_type": "stream",
          "text": [
            "Model: \"sequential_2\"\n",
            "_________________________________________________________________\n",
            "Layer (type)                 Output Shape              Param #   \n",
            "=================================================================\n",
            "embedding_2 (Embedding)      (None, 50, 50)            720600    \n",
            "_________________________________________________________________\n",
            "lstm (LSTM)                  (None, 128)               91648     \n",
            "_________________________________________________________________\n",
            "dense_2 (Dense)              (None, 1)                 129       \n",
            "=================================================================\n",
            "Total params: 812,377\n",
            "Trainable params: 91,777\n",
            "Non-trainable params: 720,600\n",
            "_________________________________________________________________\n",
            "None\n"
          ],
          "name": "stdout"
        }
      ]
    },
    {
      "cell_type": "code",
      "metadata": {
        "colab": {
          "base_uri": "https://localhost:8080/"
        },
        "id": "O5biiIkj6B6Y",
        "outputId": "9146d681-c6e9-4e03-9bf8-0056c4fbf083"
      },
      "source": [
        "history = model.fit(X_train, y_train, batch_size=128, epochs=50, verbose=1, validation_split=0.2)\r\n"
      ],
      "execution_count": 19,
      "outputs": [
        {
          "output_type": "stream",
          "text": [
            "Epoch 1/50\n",
            "24/24 [==============================] - 6s 177ms/step - loss: 0.6757 - acc: 0.6113 - val_loss: 0.5830 - val_acc: 0.7442\n",
            "Epoch 2/50\n",
            "24/24 [==============================] - 4s 153ms/step - loss: 0.5842 - acc: 0.7345 - val_loss: 0.4616 - val_acc: 0.8119\n",
            "Epoch 3/50\n",
            "24/24 [==============================] - 4s 151ms/step - loss: 0.4414 - acc: 0.8313 - val_loss: 0.4859 - val_acc: 0.8092\n",
            "Epoch 4/50\n",
            "24/24 [==============================] - 4s 148ms/step - loss: 0.4703 - acc: 0.8121 - val_loss: 0.4955 - val_acc: 0.7605\n",
            "Epoch 5/50\n",
            "24/24 [==============================] - 4s 149ms/step - loss: 0.4608 - acc: 0.7983 - val_loss: 0.5662 - val_acc: 0.7767\n",
            "Epoch 6/50\n",
            "24/24 [==============================] - 4s 149ms/step - loss: 0.4936 - acc: 0.8131 - val_loss: 0.5192 - val_acc: 0.7957\n",
            "Epoch 7/50\n",
            "24/24 [==============================] - 4s 149ms/step - loss: 0.4629 - acc: 0.8232 - val_loss: 0.4631 - val_acc: 0.8309\n",
            "Epoch 8/50\n",
            "24/24 [==============================] - 4s 149ms/step - loss: 0.4265 - acc: 0.8410 - val_loss: 0.4853 - val_acc: 0.8133\n",
            "Epoch 9/50\n",
            "24/24 [==============================] - 4s 152ms/step - loss: 0.4295 - acc: 0.8412 - val_loss: 0.4345 - val_acc: 0.8376\n",
            "Epoch 10/50\n",
            "24/24 [==============================] - 4s 151ms/step - loss: 0.4111 - acc: 0.8501 - val_loss: 0.4234 - val_acc: 0.8227\n",
            "Epoch 11/50\n",
            "24/24 [==============================] - 4s 151ms/step - loss: 0.4077 - acc: 0.8470 - val_loss: 0.4183 - val_acc: 0.8403\n",
            "Epoch 12/50\n",
            "24/24 [==============================] - 4s 150ms/step - loss: 0.3820 - acc: 0.8544 - val_loss: 0.3828 - val_acc: 0.8471\n",
            "Epoch 13/50\n",
            "24/24 [==============================] - 4s 148ms/step - loss: 0.3696 - acc: 0.8605 - val_loss: 0.3671 - val_acc: 0.8417\n",
            "Epoch 14/50\n",
            "24/24 [==============================] - 4s 164ms/step - loss: 0.3628 - acc: 0.8592 - val_loss: 0.3707 - val_acc: 0.8552\n",
            "Epoch 15/50\n",
            "24/24 [==============================] - 4s 169ms/step - loss: 0.3355 - acc: 0.8721 - val_loss: 0.3551 - val_acc: 0.8403\n",
            "Epoch 16/50\n",
            "24/24 [==============================] - 4s 161ms/step - loss: 0.3060 - acc: 0.8785 - val_loss: 0.3470 - val_acc: 0.8633\n",
            "Epoch 17/50\n",
            "24/24 [==============================] - 4s 153ms/step - loss: 0.2963 - acc: 0.8886 - val_loss: 0.3231 - val_acc: 0.8633\n",
            "Epoch 18/50\n",
            "24/24 [==============================] - 4s 151ms/step - loss: 0.2870 - acc: 0.8893 - val_loss: 0.3727 - val_acc: 0.8417\n",
            "Epoch 19/50\n",
            "24/24 [==============================] - 4s 153ms/step - loss: 0.2966 - acc: 0.8815 - val_loss: 0.3090 - val_acc: 0.8742\n",
            "Epoch 20/50\n",
            "24/24 [==============================] - 4s 154ms/step - loss: 0.2971 - acc: 0.8946 - val_loss: 0.3134 - val_acc: 0.8620\n",
            "Epoch 21/50\n",
            "24/24 [==============================] - 4s 152ms/step - loss: 0.2587 - acc: 0.9034 - val_loss: 0.3318 - val_acc: 0.8647\n",
            "Epoch 22/50\n",
            "24/24 [==============================] - 4s 155ms/step - loss: 0.2429 - acc: 0.9096 - val_loss: 0.2998 - val_acc: 0.8863\n",
            "Epoch 23/50\n",
            "24/24 [==============================] - 4s 150ms/step - loss: 0.2275 - acc: 0.9154 - val_loss: 0.3615 - val_acc: 0.8336\n",
            "Epoch 24/50\n",
            "24/24 [==============================] - 4s 152ms/step - loss: 0.2571 - acc: 0.8917 - val_loss: 0.2935 - val_acc: 0.8836\n",
            "Epoch 25/50\n",
            "24/24 [==============================] - 4s 154ms/step - loss: 0.2119 - acc: 0.9141 - val_loss: 0.3115 - val_acc: 0.8823\n",
            "Epoch 26/50\n",
            "24/24 [==============================] - 4s 156ms/step - loss: 0.2274 - acc: 0.9028 - val_loss: 0.3129 - val_acc: 0.8796\n",
            "Epoch 27/50\n",
            "24/24 [==============================] - 4s 153ms/step - loss: 0.2553 - acc: 0.8974 - val_loss: 0.2708 - val_acc: 0.8890\n",
            "Epoch 28/50\n",
            "24/24 [==============================] - 4s 156ms/step - loss: 0.2131 - acc: 0.9147 - val_loss: 0.2703 - val_acc: 0.8945\n",
            "Epoch 29/50\n",
            "24/24 [==============================] - 4s 154ms/step - loss: 0.1689 - acc: 0.9360 - val_loss: 0.2759 - val_acc: 0.8999\n",
            "Epoch 30/50\n",
            "24/24 [==============================] - 4s 155ms/step - loss: 0.1588 - acc: 0.9445 - val_loss: 0.2728 - val_acc: 0.8863\n",
            "Epoch 31/50\n",
            "24/24 [==============================] - 4s 154ms/step - loss: 0.1549 - acc: 0.9422 - val_loss: 0.2801 - val_acc: 0.8904\n",
            "Epoch 32/50\n",
            "24/24 [==============================] - 4s 152ms/step - loss: 0.1569 - acc: 0.9378 - val_loss: 0.2950 - val_acc: 0.8850\n",
            "Epoch 33/50\n",
            "24/24 [==============================] - 4s 154ms/step - loss: 0.1415 - acc: 0.9487 - val_loss: 0.3363 - val_acc: 0.8958\n",
            "Epoch 34/50\n",
            "24/24 [==============================] - 4s 154ms/step - loss: 0.1598 - acc: 0.9288 - val_loss: 0.3262 - val_acc: 0.8917\n",
            "Epoch 35/50\n",
            "24/24 [==============================] - 4s 153ms/step - loss: 0.1414 - acc: 0.9522 - val_loss: 0.2756 - val_acc: 0.8945\n",
            "Epoch 36/50\n",
            "24/24 [==============================] - 4s 150ms/step - loss: 0.1134 - acc: 0.9592 - val_loss: 0.2792 - val_acc: 0.9012\n",
            "Epoch 37/50\n",
            "24/24 [==============================] - 4s 151ms/step - loss: 0.1391 - acc: 0.9474 - val_loss: 0.2950 - val_acc: 0.9066\n",
            "Epoch 38/50\n",
            "24/24 [==============================] - 4s 154ms/step - loss: 0.1239 - acc: 0.9565 - val_loss: 0.3079 - val_acc: 0.8877\n",
            "Epoch 39/50\n",
            "24/24 [==============================] - 4s 153ms/step - loss: 0.1927 - acc: 0.9184 - val_loss: 0.2866 - val_acc: 0.8931\n",
            "Epoch 40/50\n",
            "24/24 [==============================] - 4s 151ms/step - loss: 0.1433 - acc: 0.9483 - val_loss: 0.2739 - val_acc: 0.9012\n",
            "Epoch 41/50\n",
            "24/24 [==============================] - 4s 151ms/step - loss: 0.0864 - acc: 0.9672 - val_loss: 0.3037 - val_acc: 0.8877\n",
            "Epoch 42/50\n",
            "24/24 [==============================] - 4s 152ms/step - loss: 0.0839 - acc: 0.9712 - val_loss: 0.2925 - val_acc: 0.8972\n",
            "Epoch 43/50\n",
            "24/24 [==============================] - 4s 151ms/step - loss: 0.0984 - acc: 0.9622 - val_loss: 0.3263 - val_acc: 0.9134\n",
            "Epoch 44/50\n",
            "24/24 [==============================] - 4s 152ms/step - loss: 0.0511 - acc: 0.9812 - val_loss: 0.3436 - val_acc: 0.8809\n",
            "Epoch 45/50\n",
            "24/24 [==============================] - 4s 148ms/step - loss: 0.0589 - acc: 0.9816 - val_loss: 0.3555 - val_acc: 0.9026\n",
            "Epoch 46/50\n",
            "24/24 [==============================] - 4s 150ms/step - loss: 0.0642 - acc: 0.9823 - val_loss: 0.4005 - val_acc: 0.8836\n",
            "Epoch 47/50\n",
            "24/24 [==============================] - 4s 150ms/step - loss: 0.0558 - acc: 0.9833 - val_loss: 0.3585 - val_acc: 0.9039\n",
            "Epoch 48/50\n",
            "24/24 [==============================] - 4s 151ms/step - loss: 0.0610 - acc: 0.9796 - val_loss: 0.3425 - val_acc: 0.9080\n",
            "Epoch 49/50\n",
            "24/24 [==============================] - 4s 151ms/step - loss: 0.0512 - acc: 0.9862 - val_loss: 0.3615 - val_acc: 0.8823\n",
            "Epoch 50/50\n",
            "24/24 [==============================] - 4s 152ms/step - loss: 0.0816 - acc: 0.9715 - val_loss: 0.3070 - val_acc: 0.9093\n"
          ],
          "name": "stdout"
        }
      ]
    },
    {
      "cell_type": "markdown",
      "metadata": {
        "id": "Cqz0LhbBY8n3"
      },
      "source": [
        "Moyenne des écarts pour le modèle LSTM"
      ]
    },
    {
      "cell_type": "code",
      "metadata": {
        "colab": {
          "base_uri": "https://localhost:8080/"
        },
        "id": "dyCgPpXLGWL5",
        "outputId": "a3f3763d-525e-4c44-9783-5c83f55ec894"
      },
      "source": [
        "# Moyenne des écarts entre les Accurracies sur les données d'apprentissage et Les Accurracies sur les données de validation\r\n",
        "\r\n",
        "L1=history.history['acc']\r\n",
        "L2=history.history['val_acc']\r\n",
        "Ecart_Moy(L1,L2)"
      ],
      "execution_count": 27,
      "outputs": [
        {
          "output_type": "stream",
          "text": [
            "0.059181318283081055\n"
          ],
          "name": "stdout"
        }
      ]
    },
    {
      "cell_type": "markdown",
      "metadata": {
        "id": "z-l-6_A4MFh3"
      },
      "source": [
        "Loss et Accurracy du modèle LSTM sur l'ensemble test:"
      ]
    },
    {
      "cell_type": "code",
      "metadata": {
        "colab": {
          "base_uri": "https://localhost:8080/"
        },
        "id": "fhNbfdUK6Kty",
        "outputId": "663e6fe8-12b3-4add-9e00-c5360044e3ff"
      },
      "source": [
        "score = model.evaluate(X_test, y_test, verbose=1)\r\n",
        "print(\"Test Loss:\", score[0])\r\n",
        "print(\"Test Accuracy:\", score[1])"
      ],
      "execution_count": 28,
      "outputs": [
        {
          "output_type": "stream",
          "text": [
            "29/29 [==============================] - 0s 16ms/step - loss: 0.4331 - acc: 0.8755\n",
            "Test Loss: 0.43314090371131897\n",
            "Test Accuracy: 0.8755411505699158\n"
          ],
          "name": "stdout"
        }
      ]
    },
    {
      "cell_type": "markdown",
      "metadata": {
        "id": "gbtgtx2vZPcL"
      },
      "source": [
        "Comparativement aux deux premiers modèles on voit que ce LSTM a la plus petite  moyenne de écarts entre Acurracies, d'où la réduction de l'overfiting.\r\n",
        "\r\n",
        "Aussi concernant la perfermance sur l'ensemble test il aussi meilleur, car son accurracy sur cet ensemble est 89 %  est supérieur à celui des deux modèle précédents.\r\n",
        "\r\n",
        "Les deux Graphiques ci-dessous nous indique bien que l'ecart pour ce modèle est plus petit.  "
      ]
    },
    {
      "cell_type": "code",
      "metadata": {
        "colab": {
          "base_uri": "https://localhost:8080/",
          "height": 573
        },
        "id": "qvoiir8y6SlU",
        "outputId": "917dfba0-ad11-4ec4-c6db-8b47ee606e08"
      },
      "source": [
        "plt.plot(history.history['acc'])\r\n",
        "plt.plot(history.history['val_acc'])\r\n",
        "\r\n",
        "plt.title('model accuracy')\r\n",
        "plt.ylabel('accuracy')\r\n",
        "plt.xlabel('epoch')\r\n",
        "plt.legend(['train','test'], loc='upper left')\r\n",
        "plt.show()\r\n",
        "\r\n",
        "plt.plot(history.history['loss'])\r\n",
        "plt.plot(history.history['val_loss'])\r\n",
        "\r\n",
        "plt.title('model loss')\r\n",
        "plt.ylabel('loss')\r\n",
        "plt.xlabel('epoch')\r\n",
        "plt.legend(['train','test'], loc='upper left')\r\n",
        "plt.show()"
      ],
      "execution_count": 29,
      "outputs": [
        {
          "output_type": "display_data",
          "data": {
            "image/png": "[encoded data removed]",
            "text/plain": [
              "<Figure size 432x288 with 1 Axes>"
            ]
          },
          "metadata": {
            "tags": [],
            "needs_background": "light"
          }
        },
        {
          "output_type": "display_data",
          "data": {
            "image/png": "[encoded data removed]",
            "text/plain": [
              "<Figure size 432x288 with 1 Axes>"
            ]
          },
          "metadata": {
            "tags": [],
            "needs_background": "light"
          }
        }
      ]
    },
    {
      "cell_type": "markdown",
      "metadata": {
        "id": "1metXSndfEmF"
      },
      "source": [
        "Comparativement aux graphiques obtenus à patir des modèles précédents,les courbes sont plus proches sur ces deux graphiques du modèle LSTM.  "
      ]
    },
    {
      "cell_type": "markdown",
      "metadata": {
        "id": "fI8HtiTPiSnB"
      },
      "source": [
        "\r\n",
        "\r\n",
        "\r\n",
        "\r\n",
        "**OPTIMISATION DES PARAMETRES DU MODEL LSTM**\r\n",
        "\r\n",
        "Nous voulons à présent trouver le nombre d'instance à utiliser pour la mise à jour des poids et le nombre de noeud pour LSTM qui, simultanément, maximisent l'acurracy sur lest données de validation."
      ]
    },
    {
      "cell_type": "code",
      "metadata": {
        "id": "ylNvwJn5kUZn"
      },
      "source": [
        "# Préparation de l'essemble test, train et celui du développement \r\n",
        "def train_dev_test_split(features_data,labels_data,test_size):\r\n",
        "    X_train, X_test, y_train, y_test = train_test_split(features_data,labels_data, test_size=test_size, random_state=42)    \r\n",
        "    dev_size=0.5\r\n",
        "    X_Dev,X_test2,y_dev,y_test2= train_test_split(X_test,y_test,test_size=dev_size,random_state=42)\r\n",
        "    return [X_train,y_train,X_Dev,y_dev,X_test2,y_test2]\r\n",
        "\r\n",
        "Splits=train_dev_test_split(X_train,y_train,0.02)\r\n",
        "\r\n",
        "X_tr=Splits[0]\r\n",
        "Y_tr=Splits[1]\r\n",
        "X_d=Splits[2]\r\n",
        "Y_d=Splits[3]\r\n",
        "X_ts=Splits[4]\r\n",
        "Y_ts=Splits[5] \r\n"
      ],
      "execution_count": 30,
      "outputs": []
    },
    {
      "cell_type": "markdown",
      "metadata": {
        "id": "SLsA3Abx1nh_"
      },
      "source": [
        "Le code ci-desous nous permet de trouver les valeurs optimales des deux paramètres pour deux listes de valeurs données."
      ]
    },
    {
      "cell_type": "code",
      "metadata": {
        "id": "q9Mbx4yOmjUp",
        "colab": {
          "base_uri": "https://localhost:8080/"
        },
        "outputId": "870c45b7-cbd9-4155-d715-bf4825dfef11"
      },
      "source": [
        "\r\n",
        "\r\n",
        "nb_neud=[6,10,128]\r\n",
        "batch_size=[64,128,200]\r\n",
        "def Parametres_Optimiser(i,batch_size,X_train,y_train,X_dev,y_dev):    \r\n",
        "        model_LSTM_2= Sequential()\r\n",
        "        embedding_layer = Embedding(vocab_size, 50, weights=[embedding_matrix], input_length=maxlen , trainable=False)\r\n",
        "        model_LSTM_2.add(embedding_layer) \r\n",
        "        model_LSTM_2.add(LSTM(i))\r\n",
        "        model_LSTM_2.add(Dense(1, activation='sigmoid'))\r\n",
        "        model_LSTM_2.compile(optimizer='adam', loss='binary_crossentropy', metrics=['acc'])\r\n",
        "        \r\n",
        "        l=[]\r\n",
        "        for j in batch_size:\r\n",
        "            model_LSTM_2.fit(X_train, y_train, batch_size=j, epochs=6, verbose=1, validation_split=0.2)\r\n",
        "            score=model_LSTM_2.evaluate(X_dev, y_dev, verbose=1)\r\n",
        "            l.append([(i,j),score[1]])\r\n",
        "        return l\r\n",
        "M=[]\r\n",
        "for i in nb_neud:\r\n",
        "    M.append(Parametres_Optimiser(i,batch_size,X_tr,Y_tr,X_d,Y_d))\r\n",
        "    "
      ],
      "execution_count": 31,
      "outputs": [
        {
          "output_type": "stream",
          "text": [
            "Epoch 1/6\n",
            "46/46 [==============================] - 3s 34ms/step - loss: 0.6890 - acc: 0.5779 - val_loss: 0.6658 - val_acc: 0.6331\n",
            "Epoch 2/6\n",
            "46/46 [==============================] - 1s 23ms/step - loss: 0.6690 - acc: 0.6132 - val_loss: 0.6580 - val_acc: 0.6331\n",
            "Epoch 3/6\n",
            "46/46 [==============================] - 1s 30ms/step - loss: 0.6653 - acc: 0.6182 - val_loss: 0.6580 - val_acc: 0.6331\n",
            "Epoch 4/6\n",
            "46/46 [==============================] - 1s 23ms/step - loss: 0.6631 - acc: 0.6212 - val_loss: 0.6556 - val_acc: 0.6331\n",
            "Epoch 5/6\n",
            "46/46 [==============================] - 1s 25ms/step - loss: 0.6567 - acc: 0.6145 - val_loss: 0.5978 - val_acc: 0.7021\n",
            "Epoch 6/6\n",
            "46/46 [==============================] - 1s 25ms/step - loss: 0.5735 - acc: 0.7189 - val_loss: 0.5764 - val_acc: 0.6800\n",
            "2/2 [==============================] - 0s 11ms/step - loss: 0.6078 - acc: 0.6486\n",
            "Epoch 1/6\n",
            "23/23 [==============================] - 1s 30ms/step - loss: 0.5406 - acc: 0.7390 - val_loss: 0.5616 - val_acc: 0.7131\n",
            "Epoch 2/6\n",
            "23/23 [==============================] - 1s 28ms/step - loss: 0.5238 - acc: 0.7583 - val_loss: 0.5420 - val_acc: 0.7517\n",
            "Epoch 3/6\n",
            "23/23 [==============================] - 1s 29ms/step - loss: 0.5110 - acc: 0.7780 - val_loss: 0.5330 - val_acc: 0.7669\n",
            "Epoch 4/6\n",
            "23/23 [==============================] - 1s 28ms/step - loss: 0.5054 - acc: 0.7952 - val_loss: 0.5244 - val_acc: 0.7890\n",
            "Epoch 5/6\n",
            "23/23 [==============================] - 1s 27ms/step - loss: 0.5040 - acc: 0.7956 - val_loss: 0.5238 - val_acc: 0.7876\n",
            "Epoch 6/6\n",
            "23/23 [==============================] - 1s 28ms/step - loss: 0.5960 - acc: 0.7400 - val_loss: 0.6116 - val_acc: 0.7172\n",
            "2/2 [==============================] - 0s 9ms/step - loss: 0.6238 - acc: 0.7027\n",
            "Epoch 1/6\n",
            "15/15 [==============================] - 1s 38ms/step - loss: 0.6342 - acc: 0.6896 - val_loss: 0.5827 - val_acc: 0.7310\n",
            "Epoch 2/6\n",
            "15/15 [==============================] - 0s 33ms/step - loss: 0.5687 - acc: 0.7448 - val_loss: 0.5379 - val_acc: 0.7779\n",
            "Epoch 3/6\n",
            "15/15 [==============================] - 0s 31ms/step - loss: 0.5273 - acc: 0.7880 - val_loss: 0.5298 - val_acc: 0.7834\n",
            "Epoch 4/6\n",
            "15/15 [==============================] - 1s 34ms/step - loss: 0.5205 - acc: 0.7901 - val_loss: 0.5268 - val_acc: 0.7821\n",
            "Epoch 5/6\n",
            "15/15 [==============================] - 1s 34ms/step - loss: 0.5159 - acc: 0.7911 - val_loss: 0.5280 - val_acc: 0.7807\n",
            "Epoch 6/6\n",
            "15/15 [==============================] - 0s 32ms/step - loss: 0.5238 - acc: 0.7835 - val_loss: 0.5812 - val_acc: 0.7352\n",
            "2/2 [==============================] - 0s 7ms/step - loss: 0.6536 - acc: 0.6757\n",
            "Epoch 1/6\n",
            "46/46 [==============================] - 4s 36ms/step - loss: 0.6912 - acc: 0.5705 - val_loss: 0.6732 - val_acc: 0.6276\n",
            "Epoch 2/6\n",
            "46/46 [==============================] - 1s 24ms/step - loss: 0.6707 - acc: 0.6204 - val_loss: 0.6600 - val_acc: 0.6317\n",
            "Epoch 3/6\n",
            "46/46 [==============================] - 1s 24ms/step - loss: 0.6711 - acc: 0.6045 - val_loss: 0.6571 - val_acc: 0.6331\n",
            "Epoch 4/6\n",
            "46/46 [==============================] - 1s 25ms/step - loss: 0.6659 - acc: 0.6131 - val_loss: 0.6517 - val_acc: 0.6331\n",
            "Epoch 5/6\n",
            "46/46 [==============================] - 1s 24ms/step - loss: 0.6442 - acc: 0.6088 - val_loss: 0.5573 - val_acc: 0.7531\n",
            "Epoch 6/6\n",
            "46/46 [==============================] - 1s 23ms/step - loss: 0.5737 - acc: 0.7024 - val_loss: 0.5485 - val_acc: 0.7338\n",
            "2/2 [==============================] - 0s 10ms/step - loss: 0.6072 - acc: 0.6486\n",
            "Epoch 1/6\n",
            "23/23 [==============================] - 1s 47ms/step - loss: 0.5297 - acc: 0.7697 - val_loss: 0.5288 - val_acc: 0.7545\n",
            "Epoch 2/6\n",
            "23/23 [==============================] - 1s 31ms/step - loss: 0.5218 - acc: 0.7752 - val_loss: 0.5436 - val_acc: 0.7834\n",
            "Epoch 3/6\n",
            "23/23 [==============================] - 1s 31ms/step - loss: 0.5204 - acc: 0.7762 - val_loss: 0.5150 - val_acc: 0.7600\n",
            "Epoch 4/6\n",
            "23/23 [==============================] - 1s 30ms/step - loss: 0.4953 - acc: 0.7866 - val_loss: 0.5050 - val_acc: 0.7821\n",
            "Epoch 5/6\n",
            "23/23 [==============================] - 1s 30ms/step - loss: 0.4869 - acc: 0.7838 - val_loss: 0.4944 - val_acc: 0.7793\n",
            "Epoch 6/6\n",
            "23/23 [==============================] - 1s 33ms/step - loss: 0.4726 - acc: 0.7987 - val_loss: 0.4825 - val_acc: 0.7903\n",
            "2/2 [==============================] - 0s 10ms/step - loss: 0.6150 - acc: 0.6757\n",
            "Epoch 1/6\n",
            "15/15 [==============================] - 1s 41ms/step - loss: 0.4616 - acc: 0.8042 - val_loss: 0.4877 - val_acc: 0.7862\n",
            "Epoch 2/6\n",
            "15/15 [==============================] - 1s 37ms/step - loss: 0.4554 - acc: 0.8101 - val_loss: 0.4807 - val_acc: 0.7945\n",
            "Epoch 3/6\n",
            "15/15 [==============================] - 1s 37ms/step - loss: 0.4523 - acc: 0.8122 - val_loss: 0.4808 - val_acc: 0.7931\n",
            "Epoch 4/6\n",
            "15/15 [==============================] - 1s 36ms/step - loss: 0.4431 - acc: 0.8149 - val_loss: 0.4845 - val_acc: 0.7903\n",
            "Epoch 5/6\n",
            "15/15 [==============================] - 1s 38ms/step - loss: 0.4393 - acc: 0.8215 - val_loss: 0.4786 - val_acc: 0.8000\n",
            "Epoch 6/6\n",
            "15/15 [==============================] - 1s 36ms/step - loss: 0.4449 - acc: 0.8191 - val_loss: 0.4833 - val_acc: 0.7876\n",
            "2/2 [==============================] - 0s 5ms/step - loss: 0.6737 - acc: 0.6486\n",
            "Epoch 1/6\n",
            "46/46 [==============================] - 7s 110ms/step - loss: 0.6642 - acc: 0.6273 - val_loss: 0.4775 - val_acc: 0.7738\n",
            "Epoch 2/6\n",
            "46/46 [==============================] - 4s 97ms/step - loss: 0.5235 - acc: 0.7720 - val_loss: 0.5696 - val_acc: 0.7407\n",
            "Epoch 3/6\n",
            "46/46 [==============================] - 5s 99ms/step - loss: 0.5287 - acc: 0.7852 - val_loss: 0.4809 - val_acc: 0.8083\n",
            "Epoch 4/6\n",
            "46/46 [==============================] - 5s 98ms/step - loss: 0.4888 - acc: 0.8077 - val_loss: 0.5967 - val_acc: 0.7338\n",
            "Epoch 5/6\n",
            "46/46 [==============================] - 4s 98ms/step - loss: 0.5888 - acc: 0.6286 - val_loss: 0.6251 - val_acc: 0.6331\n",
            "Epoch 6/6\n",
            "46/46 [==============================] - 4s 97ms/step - loss: 0.5982 - acc: 0.6567 - val_loss: 0.5507 - val_acc: 0.6883\n",
            "2/2 [==============================] - 0s 10ms/step - loss: 0.6626 - acc: 0.5676\n",
            "Epoch 1/6\n",
            "23/23 [==============================] - 4s 167ms/step - loss: 0.5108 - acc: 0.7465 - val_loss: 0.5147 - val_acc: 0.7531\n",
            "Epoch 2/6\n",
            "23/23 [==============================] - 4s 159ms/step - loss: 0.4923 - acc: 0.7680 - val_loss: 0.4829 - val_acc: 0.8069\n",
            "Epoch 3/6\n",
            "23/23 [==============================] - 4s 168ms/step - loss: 0.4668 - acc: 0.8104 - val_loss: 0.4632 - val_acc: 0.8110\n",
            "Epoch 4/6\n",
            "23/23 [==============================] - 4s 173ms/step - loss: 0.4403 - acc: 0.8273 - val_loss: 0.4470 - val_acc: 0.8317\n",
            "Epoch 5/6\n",
            "23/23 [==============================] - 4s 191ms/step - loss: 0.4322 - acc: 0.8363 - val_loss: 0.4422 - val_acc: 0.8290\n",
            "Epoch 6/6\n",
            "23/23 [==============================] - 4s 157ms/step - loss: 0.4265 - acc: 0.8377 - val_loss: 0.4357 - val_acc: 0.8372\n",
            "2/2 [==============================] - 0s 11ms/step - loss: 0.4773 - acc: 0.8378\n",
            "Epoch 1/6\n",
            "15/15 [==============================] - 3s 223ms/step - loss: 0.4146 - acc: 0.8474 - val_loss: 0.4301 - val_acc: 0.8386\n",
            "Epoch 2/6\n",
            "15/15 [==============================] - 3s 223ms/step - loss: 0.4115 - acc: 0.8463 - val_loss: 0.4273 - val_acc: 0.8441\n",
            "Epoch 3/6\n",
            "15/15 [==============================] - 3s 220ms/step - loss: 0.4015 - acc: 0.8543 - val_loss: 0.4232 - val_acc: 0.8400\n",
            "Epoch 4/6\n",
            "15/15 [==============================] - 3s 222ms/step - loss: 0.3951 - acc: 0.8557 - val_loss: 0.4275 - val_acc: 0.8414\n",
            "Epoch 5/6\n",
            "15/15 [==============================] - 3s 218ms/step - loss: 0.3933 - acc: 0.8536 - val_loss: 0.4205 - val_acc: 0.8386\n",
            "Epoch 6/6\n",
            "15/15 [==============================] - 3s 217ms/step - loss: 0.3823 - acc: 0.8605 - val_loss: 0.4183 - val_acc: 0.8428\n",
            "2/2 [==============================] - 0s 12ms/step - loss: 0.4971 - acc: 0.7297\n"
          ],
          "name": "stdout"
        }
      ]
    },
    {
      "cell_type": "code",
      "metadata": {
        "id": "uxqiJpb8aXkv",
        "colab": {
          "base_uri": "https://localhost:8080/",
          "height": 382
        },
        "outputId": "b6508747-8889-4181-85bd-7502ab15fc86"
      },
      "source": [
        "M=np.array(M).reshape(len(nb_neud)*len(batch_size),2)\r\n",
        "M=pd.DataFrame(M,columns=['(Nb_neud, batch_size)','Val_Acc'])\r\n",
        "M\r\n"
      ],
      "execution_count": 32,
      "outputs": [
        {
          "output_type": "stream",
          "text": [
            "/usr/local/lib/python3.6/dist-packages/ipykernel_launcher.py:1: VisibleDeprecationWarning: Creating an ndarray from ragged nested sequences (which is a list-or-tuple of lists-or-tuples-or ndarrays with different lengths or shapes) is deprecated. If you meant to do this, you must specify 'dtype=object' when creating the ndarray\n",
            "  \"\"\"Entry point for launching an IPython kernel.\n"
          ],
          "name": "stderr"
        },
        {
          "output_type": "execute_result",
          "data": {
            "text/html": [
              "<div>\n",
              "<style scoped>\n",
              "    .dataframe tbody tr th:only-of-type {\n",
              "        vertical-align: middle;\n",
              "    }\n",
              "\n",
              "    .dataframe tbody tr th {\n",
              "        vertical-align: top;\n",
              "    }\n",
              "\n",
              "    .dataframe thead th {\n",
              "        text-align: right;\n",
              "    }\n",
              "</style>\n",
              "<table border=\"1\" class=\"dataframe\">\n",
              "  <thead>\n",
              "    <tr style=\"text-align: right;\">\n",
              "      <th></th>\n",
              "      <th>(Nb_neud, batch_size)</th>\n",
              "      <th>Val_Acc</th>\n",
              "    </tr>\n",
              "  </thead>\n",
              "  <tbody>\n",
              "    <tr>\n",
              "      <th>0</th>\n",
              "      <td>(6, 64)</td>\n",
              "      <td>0.648649</td>\n",
              "    </tr>\n",
              "    <tr>\n",
              "      <th>1</th>\n",
              "      <td>(6, 128)</td>\n",
              "      <td>0.702703</td>\n",
              "    </tr>\n",
              "    <tr>\n",
              "      <th>2</th>\n",
              "      <td>(6, 200)</td>\n",
              "      <td>0.675676</td>\n",
              "    </tr>\n",
              "    <tr>\n",
              "      <th>3</th>\n",
              "      <td>(10, 64)</td>\n",
              "      <td>0.648649</td>\n",
              "    </tr>\n",
              "    <tr>\n",
              "      <th>4</th>\n",
              "      <td>(10, 128)</td>\n",
              "      <td>0.675676</td>\n",
              "    </tr>\n",
              "    <tr>\n",
              "      <th>5</th>\n",
              "      <td>(10, 200)</td>\n",
              "      <td>0.648649</td>\n",
              "    </tr>\n",
              "    <tr>\n",
              "      <th>6</th>\n",
              "      <td>(128, 64)</td>\n",
              "      <td>0.567568</td>\n",
              "    </tr>\n",
              "    <tr>\n",
              "      <th>7</th>\n",
              "      <td>(128, 128)</td>\n",
              "      <td>0.837838</td>\n",
              "    </tr>\n",
              "    <tr>\n",
              "      <th>8</th>\n",
              "      <td>(128, 200)</td>\n",
              "      <td>0.72973</td>\n",
              "    </tr>\n",
              "  </tbody>\n",
              "</table>\n",
              "</div>"
            ],
            "text/plain": [
              "  (Nb_neud, batch_size)   Val_Acc\n",
              "0               (6, 64)  0.648649\n",
              "1              (6, 128)  0.702703\n",
              "2              (6, 200)  0.675676\n",
              "3              (10, 64)  0.648649\n",
              "4             (10, 128)  0.675676\n",
              "5             (10, 200)  0.648649\n",
              "6             (128, 64)  0.567568\n",
              "7            (128, 128)  0.837838\n",
              "8            (128, 200)   0.72973"
            ]
          },
          "metadata": {
            "tags": []
          },
          "execution_count": 32
        }
      ]
    },
    {
      "cell_type": "markdown",
      "metadata": {
        "id": "M3gY8qNnsk88"
      },
      "source": [
        "Nous obtenons deux couples de valeurs optimales souvent (128, 180) et (128, 200). "
      ]
    },
    {
      "cell_type": "markdown",
      "metadata": {
        "id": "vB_70iF-TexQ"
      },
      "source": [
        "**REEVALUATION DU MODEL LSTM AVEC LES PARAMETTRES OPTIMALS** \r\n",
        "\r\n",
        "ICI nous évaluons le modèle LSTM le couple (128,200).    "
      ]
    },
    {
      "cell_type": "code",
      "metadata": {
        "colab": {
          "base_uri": "https://localhost:8080/"
        },
        "id": "s1ioOpD6WJGq",
        "outputId": "828ca040-5bac-4ef7-dd46-90afc202475a"
      },
      "source": [
        "model = Sequential()\r\n",
        "embedding_layer = Embedding(vocab_size, 50, weights=[embedding_matrix], input_length=maxlen , trainable=False)\r\n",
        "model.add(embedding_layer)\r\n",
        "model.add(LSTM(128))\r\n",
        "model.add(Dense(1, activation='sigmoid'))\r\n",
        "model.compile(optimizer='adam', loss='binary_crossentropy', metrics=['acc'])\r\n",
        "print(model.summary())"
      ],
      "execution_count": 24,
      "outputs": [
        {
          "output_type": "stream",
          "text": [
            "Model: \"sequential_3\"\n",
            "_________________________________________________________________\n",
            "Layer (type)                 Output Shape              Param #   \n",
            "=================================================================\n",
            "embedding_3 (Embedding)      (None, 50, 50)            720600    \n",
            "_________________________________________________________________\n",
            "lstm_1 (LSTM)                (None, 128)               91648     \n",
            "_________________________________________________________________\n",
            "dense_3 (Dense)              (None, 1)                 129       \n",
            "=================================================================\n",
            "Total params: 812,377\n",
            "Trainable params: 91,777\n",
            "Non-trainable params: 720,600\n",
            "_________________________________________________________________\n",
            "None\n"
          ],
          "name": "stdout"
        }
      ]
    },
    {
      "cell_type": "code",
      "metadata": {
        "id": "Wu4irUqVWqEp",
        "colab": {
          "base_uri": "https://localhost:8080/"
        },
        "outputId": "d6a67426-940f-4b88-d04f-7c246c1bae22"
      },
      "source": [
        "history = model.fit(X_train, y_train, batch_size=200, epochs=50, verbose=1, validation_split=0.2)\r\n"
      ],
      "execution_count": 25,
      "outputs": [
        {
          "output_type": "stream",
          "text": [
            "Epoch 1/50\n",
            "15/15 [==============================] - 5s 246ms/step - loss: 0.6822 - acc: 0.5862 - val_loss: 0.6711 - val_acc: 0.5940\n",
            "Epoch 2/50\n",
            "15/15 [==============================] - 3s 216ms/step - loss: 0.6469 - acc: 0.6270 - val_loss: 0.5533 - val_acc: 0.7388\n",
            "Epoch 3/50\n",
            "15/15 [==============================] - 3s 214ms/step - loss: 0.4950 - acc: 0.7872 - val_loss: 0.4927 - val_acc: 0.7943\n",
            "Epoch 4/50\n",
            "15/15 [==============================] - 3s 216ms/step - loss: 0.4498 - acc: 0.8174 - val_loss: 0.4437 - val_acc: 0.8106\n",
            "Epoch 5/50\n",
            "15/15 [==============================] - 3s 213ms/step - loss: 0.4043 - acc: 0.8378 - val_loss: 0.4015 - val_acc: 0.8336\n",
            "Epoch 6/50\n",
            "15/15 [==============================] - 3s 215ms/step - loss: 0.3880 - acc: 0.8337 - val_loss: 0.3683 - val_acc: 0.8417\n",
            "Epoch 7/50\n",
            "15/15 [==============================] - 3s 217ms/step - loss: 0.3744 - acc: 0.8414 - val_loss: 0.3605 - val_acc: 0.8525\n",
            "Epoch 8/50\n",
            "15/15 [==============================] - 3s 216ms/step - loss: 0.3390 - acc: 0.8680 - val_loss: 0.4124 - val_acc: 0.8187\n",
            "Epoch 9/50\n",
            "15/15 [==============================] - 3s 215ms/step - loss: 0.3347 - acc: 0.8639 - val_loss: 0.3455 - val_acc: 0.8512\n",
            "Epoch 10/50\n",
            "15/15 [==============================] - 3s 215ms/step - loss: 0.3111 - acc: 0.8725 - val_loss: 0.3457 - val_acc: 0.8471\n",
            "Epoch 11/50\n",
            "15/15 [==============================] - 3s 214ms/step - loss: 0.2861 - acc: 0.8868 - val_loss: 0.3265 - val_acc: 0.8606\n",
            "Epoch 12/50\n",
            "15/15 [==============================] - 3s 215ms/step - loss: 0.2721 - acc: 0.8909 - val_loss: 0.3161 - val_acc: 0.8687\n",
            "Epoch 13/50\n",
            "15/15 [==============================] - 3s 216ms/step - loss: 0.2619 - acc: 0.8973 - val_loss: 0.3384 - val_acc: 0.8863\n",
            "Epoch 14/50\n",
            "15/15 [==============================] - 3s 233ms/step - loss: 0.2509 - acc: 0.9085 - val_loss: 0.3347 - val_acc: 0.8620\n",
            "Epoch 15/50\n",
            "15/15 [==============================] - 3s 213ms/step - loss: 0.2748 - acc: 0.8942 - val_loss: 0.3067 - val_acc: 0.8674\n",
            "Epoch 16/50\n",
            "15/15 [==============================] - 3s 216ms/step - loss: 0.2143 - acc: 0.9157 - val_loss: 0.3120 - val_acc: 0.8687\n",
            "Epoch 17/50\n",
            "15/15 [==============================] - 3s 218ms/step - loss: 0.2103 - acc: 0.9217 - val_loss: 0.3264 - val_acc: 0.8647\n",
            "Epoch 18/50\n",
            "15/15 [==============================] - 3s 217ms/step - loss: 0.2078 - acc: 0.9207 - val_loss: 0.2973 - val_acc: 0.8809\n",
            "Epoch 19/50\n",
            "15/15 [==============================] - 3s 214ms/step - loss: 0.1809 - acc: 0.9334 - val_loss: 0.3005 - val_acc: 0.8850\n",
            "Epoch 20/50\n",
            "15/15 [==============================] - 3s 214ms/step - loss: 0.1945 - acc: 0.9304 - val_loss: 0.3068 - val_acc: 0.8904\n",
            "Epoch 21/50\n",
            "15/15 [==============================] - 3s 215ms/step - loss: 0.1925 - acc: 0.9288 - val_loss: 0.2924 - val_acc: 0.8809\n",
            "Epoch 22/50\n",
            "15/15 [==============================] - 3s 216ms/step - loss: 0.1692 - acc: 0.9367 - val_loss: 0.3151 - val_acc: 0.8714\n",
            "Epoch 23/50\n",
            "15/15 [==============================] - 3s 216ms/step - loss: 0.1962 - acc: 0.9246 - val_loss: 0.2986 - val_acc: 0.8917\n",
            "Epoch 24/50\n",
            "15/15 [==============================] - 3s 214ms/step - loss: 0.1821 - acc: 0.9321 - val_loss: 0.3369 - val_acc: 0.8931\n",
            "Epoch 25/50\n",
            "15/15 [==============================] - 3s 215ms/step - loss: 0.1720 - acc: 0.9350 - val_loss: 0.3326 - val_acc: 0.8877\n",
            "Epoch 26/50\n",
            "15/15 [==============================] - 3s 224ms/step - loss: 0.1448 - acc: 0.9483 - val_loss: 0.3011 - val_acc: 0.8769\n",
            "Epoch 27/50\n",
            "15/15 [==============================] - 3s 220ms/step - loss: 0.1398 - acc: 0.9489 - val_loss: 0.2960 - val_acc: 0.8890\n",
            "Epoch 28/50\n",
            "15/15 [==============================] - 3s 214ms/step - loss: 0.1062 - acc: 0.9598 - val_loss: 0.3613 - val_acc: 0.8836\n",
            "Epoch 29/50\n",
            "15/15 [==============================] - 3s 217ms/step - loss: 0.1265 - acc: 0.9575 - val_loss: 0.3034 - val_acc: 0.8863\n",
            "Epoch 30/50\n",
            "15/15 [==============================] - 3s 217ms/step - loss: 0.0984 - acc: 0.9724 - val_loss: 0.3160 - val_acc: 0.8904\n",
            "Epoch 31/50\n",
            "15/15 [==============================] - 3s 216ms/step - loss: 0.0850 - acc: 0.9791 - val_loss: 0.3631 - val_acc: 0.8863\n",
            "Epoch 32/50\n",
            "15/15 [==============================] - 3s 218ms/step - loss: 0.1013 - acc: 0.9683 - val_loss: 0.3320 - val_acc: 0.8782\n",
            "Epoch 33/50\n",
            "15/15 [==============================] - 3s 215ms/step - loss: 0.1183 - acc: 0.9610 - val_loss: 0.3417 - val_acc: 0.8620\n",
            "Epoch 34/50\n",
            "15/15 [==============================] - 3s 211ms/step - loss: 0.1078 - acc: 0.9656 - val_loss: 0.3465 - val_acc: 0.8877\n",
            "Epoch 35/50\n",
            "15/15 [==============================] - 3s 221ms/step - loss: 0.0906 - acc: 0.9703 - val_loss: 0.3401 - val_acc: 0.8972\n",
            "Epoch 36/50\n",
            "15/15 [==============================] - 3s 216ms/step - loss: 0.0898 - acc: 0.9695 - val_loss: 0.3540 - val_acc: 0.8850\n",
            "Epoch 37/50\n",
            "15/15 [==============================] - 3s 214ms/step - loss: 0.0808 - acc: 0.9756 - val_loss: 0.3506 - val_acc: 0.8877\n",
            "Epoch 38/50\n",
            "15/15 [==============================] - 3s 216ms/step - loss: 0.0662 - acc: 0.9808 - val_loss: 0.4312 - val_acc: 0.8904\n",
            "Epoch 39/50\n",
            "15/15 [==============================] - 3s 217ms/step - loss: 0.0599 - acc: 0.9827 - val_loss: 0.3467 - val_acc: 0.8945\n",
            "Epoch 40/50\n",
            "15/15 [==============================] - 3s 227ms/step - loss: 0.0724 - acc: 0.9784 - val_loss: 0.3922 - val_acc: 0.8809\n",
            "Epoch 41/50\n",
            "15/15 [==============================] - 3s 228ms/step - loss: 0.0626 - acc: 0.9797 - val_loss: 0.3874 - val_acc: 0.8972\n",
            "Epoch 42/50\n",
            "15/15 [==============================] - 3s 227ms/step - loss: 0.0511 - acc: 0.9881 - val_loss: 0.4173 - val_acc: 0.8945\n",
            "Epoch 43/50\n",
            "15/15 [==============================] - 3s 214ms/step - loss: 0.0674 - acc: 0.9836 - val_loss: 0.3719 - val_acc: 0.8890\n",
            "Epoch 44/50\n",
            "15/15 [==============================] - 3s 212ms/step - loss: 0.0883 - acc: 0.9721 - val_loss: 0.3726 - val_acc: 0.8931\n",
            "Epoch 45/50\n",
            "15/15 [==============================] - 3s 216ms/step - loss: 0.0752 - acc: 0.9734 - val_loss: 0.3403 - val_acc: 0.8985\n",
            "Epoch 46/50\n",
            "15/15 [==============================] - 3s 212ms/step - loss: 0.0601 - acc: 0.9867 - val_loss: 0.4105 - val_acc: 0.8972\n",
            "Epoch 47/50\n",
            "15/15 [==============================] - 3s 211ms/step - loss: 0.0476 - acc: 0.9900 - val_loss: 0.4152 - val_acc: 0.8945\n",
            "Epoch 48/50\n",
            "15/15 [==============================] - 3s 215ms/step - loss: 0.0335 - acc: 0.9936 - val_loss: 0.4894 - val_acc: 0.8850\n",
            "Epoch 49/50\n",
            "15/15 [==============================] - 3s 216ms/step - loss: 0.0396 - acc: 0.9924 - val_loss: 0.4675 - val_acc: 0.8742\n",
            "Epoch 50/50\n",
            "15/15 [==============================] - 3s 214ms/step - loss: 0.0682 - acc: 0.9772 - val_loss: 0.3867 - val_acc: 0.8823\n"
          ],
          "name": "stdout"
        }
      ]
    },
    {
      "cell_type": "code",
      "metadata": {
        "colab": {
          "base_uri": "https://localhost:8080/"
        },
        "id": "FIu79ekSsYI5",
        "outputId": "2f0566a1-7a09-425b-f5b7-452ba8008d8c"
      },
      "source": [
        "L1=history.history['acc']\r\n",
        "L2=history.history['val_acc']\r\n",
        "Ecart_Moy(L1,L2)"
      ],
      "execution_count": null,
      "outputs": [
        {
          "output_type": "stream",
          "text": [
            "0.10944520115852356\n"
          ],
          "name": "stdout"
        }
      ]
    },
    {
      "cell_type": "code",
      "metadata": {
        "id": "8xsNcea1W2of",
        "colab": {
          "base_uri": "https://localhost:8080/"
        },
        "outputId": "27da325f-b1f2-45ab-e5b6-b51f2bf59b38"
      },
      "source": [
        "score = model.evaluate(X_test, y_test, verbose=1)\r\n",
        "print(\"Test Loss:\", score[0])\r\n",
        "print(\"Test Accuracy:\", score[1])"
      ],
      "execution_count": null,
      "outputs": [
        {
          "output_type": "stream",
          "text": [
            "29/29 [==============================] - 1s 17ms/step - loss: 0.9655 - acc: 0.8972\n",
            "Test Loss: 0.9655138850212097\n",
            "Test Accuracy: 0.8971861600875854\n"
          ],
          "name": "stdout"
        }
      ]
    },
    {
      "cell_type": "markdown",
      "metadata": {
        "id": "URqbF0mIXWxN"
      },
      "source": [
        "**PREDICTION POUR UNE INSTANCE**"
      ]
    },
    {
      "cell_type": "code",
      "metadata": {
        "colab": {
          "base_uri": "https://localhost:8080/",
          "height": 531
        },
        "id": "CBHU5T-iXxO5",
        "outputId": "5608ba0f-fbb1-4937-b7e9-4800498e7fa8"
      },
      "source": [
        "instance = X[13] # choix d'une instance   \r\n",
        "print(instance)\r\n",
        "df.head(15)"
      ],
      "execution_count": null,
      "outputs": [
        {
          "output_type": "stream",
          "text": [
            "the bartians along the prussian were conquered the teutonic knight christianized brought newcomer built many town city\n"
          ],
          "name": "stdout"
        },
        {
          "output_type": "execute_result",
          "data": {
            "text/html": [
              "<div>\n",
              "<style scoped>\n",
              "    .dataframe tbody tr th:only-of-type {\n",
              "        vertical-align: middle;\n",
              "    }\n",
              "\n",
              "    .dataframe tbody tr th {\n",
              "        vertical-align: top;\n",
              "    }\n",
              "\n",
              "    .dataframe thead th {\n",
              "        text-align: right;\n",
              "    }\n",
              "</style>\n",
              "<table border=\"1\" class=\"dataframe\">\n",
              "  <thead>\n",
              "    <tr style=\"text-align: right;\">\n",
              "      <th></th>\n",
              "      <th>CONTENT</th>\n",
              "      <th>CLASS</th>\n",
              "    </tr>\n",
              "  </thead>\n",
              "  <tbody>\n",
              "    <tr>\n",
              "      <th>598</th>\n",
              "      <td>the flute is a musical instrument of the woodw...</td>\n",
              "      <td>1</td>\n",
              "    </tr>\n",
              "    <tr>\n",
              "      <th>693</th>\n",
              "      <td>type of hacker modifies computer performance n...</td>\n",
              "      <td>0</td>\n",
              "    </tr>\n",
              "    <tr>\n",
              "      <th>1743</th>\n",
              "      <td>seinen manga is a subset of manga is generally...</td>\n",
              "      <td>1</td>\n",
              "    </tr>\n",
              "    <tr>\n",
              "      <th>825</th>\n",
              "      <td>the infantry are a type of soldier are primari...</td>\n",
              "      <td>1</td>\n",
              "    </tr>\n",
              "    <tr>\n",
              "      <th>620</th>\n",
              "      <td>a forge is the workplace of a smith a blacksmith</td>\n",
              "      <td>1</td>\n",
              "    </tr>\n",
              "    <tr>\n",
              "      <th>265</th>\n",
              "      <td>makimono were taken scenic place enjoy a beaut...</td>\n",
              "      <td>0</td>\n",
              "    </tr>\n",
              "    <tr>\n",
              "      <th>1673</th>\n",
              "      <td>differentiates the hotshot an action hero is a...</td>\n",
              "      <td>0</td>\n",
              "    </tr>\n",
              "    <tr>\n",
              "      <th>1944</th>\n",
              "      <td>unlike arthropod insect posse leg the abdomen ...</td>\n",
              "      <td>0</td>\n",
              "    </tr>\n",
              "    <tr>\n",
              "      <th>523</th>\n",
              "      <td>the ecliptic is the apparent path the sun trac...</td>\n",
              "      <td>1</td>\n",
              "    </tr>\n",
              "    <tr>\n",
              "      <th>2402</th>\n",
              "      <td>elementary function is impossible find an anti...</td>\n",
              "      <td>0</td>\n",
              "    </tr>\n",
              "    <tr>\n",
              "      <th>1036</th>\n",
              "      <td>dna retrieves information a user hardware soft...</td>\n",
              "      <td>0</td>\n",
              "    </tr>\n",
              "    <tr>\n",
              "      <th>3</th>\n",
              "      <td>the history of science alchemy refers an early...</td>\n",
              "      <td>1</td>\n",
              "    </tr>\n",
              "    <tr>\n",
              "      <th>394</th>\n",
              "      <td>brokered show were the source of substantial i...</td>\n",
              "      <td>0</td>\n",
              "    </tr>\n",
              "    <tr>\n",
              "      <th>7</th>\n",
              "      <td>the bartians along the prussian were conquered...</td>\n",
              "      <td>0</td>\n",
              "    </tr>\n",
              "    <tr>\n",
              "      <th>1508</th>\n",
              "      <td>the sun is the star the center of the solar sy...</td>\n",
              "      <td>1</td>\n",
              "    </tr>\n",
              "  </tbody>\n",
              "</table>\n",
              "</div>"
            ],
            "text/plain": [
              "                                                CONTENT  CLASS\n",
              "598   the flute is a musical instrument of the woodw...      1\n",
              "693   type of hacker modifies computer performance n...      0\n",
              "1743  seinen manga is a subset of manga is generally...      1\n",
              "825   the infantry are a type of soldier are primari...      1\n",
              "620    a forge is the workplace of a smith a blacksmith      1\n",
              "265   makimono were taken scenic place enjoy a beaut...      0\n",
              "1673  differentiates the hotshot an action hero is a...      0\n",
              "1944  unlike arthropod insect posse leg the abdomen ...      0\n",
              "523   the ecliptic is the apparent path the sun trac...      1\n",
              "2402  elementary function is impossible find an anti...      0\n",
              "1036  dna retrieves information a user hardware soft...      0\n",
              "3     the history of science alchemy refers an early...      1\n",
              "394   brokered show were the source of substantial i...      0\n",
              "7     the bartians along the prussian were conquered...      0\n",
              "1508  the sun is the star the center of the solar sy...      1"
            ]
          },
          "metadata": {
            "tags": []
          },
          "execution_count": 101
        }
      ]
    },
    {
      "cell_type": "markdown",
      "metadata": {
        "id": "Jb7NiSfvYBdc"
      },
      "source": [
        "Le code ci-dessous nous permet de prédire à partir du dernier modèl LSTM la class de de cette instance. "
      ]
    },
    {
      "cell_type": "code",
      "metadata": {
        "colab": {
          "base_uri": "https://localhost:8080/"
        },
        "id": "hn70lUN9ZhDv",
        "outputId": "4793dd67-4d5b-4860-a885-99baed6800c5"
      },
      "source": [
        "instance = tokenizer.texts_to_sequences(instance)\r\n",
        "L = []\r\n",
        "for I in instance:\r\n",
        "    for i in I:\r\n",
        "        L.append(i)\r\n",
        "L = [L]\r\n",
        "instance = pad_sequences(L, padding='post', maxlen=maxlen)\r\n",
        "\r\n",
        "model.predict(instance)"
      ],
      "execution_count": null,
      "outputs": [
        {
          "output_type": "execute_result",
          "data": {
            "text/plain": [
              "array([[0.9092474]], dtype=float32)"
            ]
          },
          "metadata": {
            "tags": []
          },
          "execution_count": 102
        }
      ]
    },
    {
      "cell_type": "markdown",
      "metadata": {
        "id": "zPeVdU02Pw86"
      },
      "source": [
        "Comme la fonction d'activation est sigmoid, si on obtient une valeur supérieur à 0.5  c'est la classe 1 qui est prédite si on obtient une valeur inférieur à 0.5 c'est la classe 0 qui est prédite.      "
      ]
    },
    {
      "cell_type": "markdown",
      "metadata": {
        "id": "nlJ4DMDLyDgh"
      },
      "source": [
        "**CONCLUSION** \r\n",
        "\r\n",
        "Dans ce projet après avoir effectué les prétraitements et l'évaluation de trois types réseau de neurones nous avons vu que le meilleur est LSTM car il est les \r\n",
        "plus adapté pour ce type de tâche.   \r\n",
        "\r\n",
        "\r\n",
        "\r\n"
      ]
    }
  ]
}